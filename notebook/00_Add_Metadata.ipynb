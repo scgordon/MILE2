{
 "cells": [
  {
   "cell_type": "markdown",
   "metadata": {},
   "source": [
    "### This notebook allows the user to create a directory structure and locally upload the metadata to the MILE2 repository."
   ]
  },
  {
   "cell_type": "code",
   "execution_count": 1,
   "metadata": {
    "collapsed": true,
    "scrolled": true
   },
   "outputs": [],
   "source": [
    "import pandas as pd\n",
    "import os\n",
    "from os import walk\n",
    "import shutil\n",
    "from ipywidgets import *\n",
    "import ipywidgets as widgets\n",
    "import requests\n",
    "from contextlib import closing\n",
    "import csv\n",
    "import io"
   ]
  },
  {
   "cell_type": "markdown",
   "metadata": {
    "collapsed": true
   },
   "source": [
    "### Now let's select some metadata."
   ]
  },
  {
   "cell_type": "markdown",
   "metadata": {},
   "source": [
    "Create a list of subdirectories in the collection directory of MILE2 to select metadata for evaluation"
   ]
  },
  {
   "cell_type": "code",
   "execution_count": 2,
   "metadata": {
    "collapsed": true
   },
   "outputs": [],
   "source": [
    "def OrganizationChoices(organization):\n",
    "    global OrganizationChoice\n",
    "    global Organization\n",
    "    Organization=organization\n",
    "    print(\"Curating Organization\", Organization)\n",
    "    \n",
    "def CollectionName(collection):\n",
    "    global CollectionChoice\n",
    "    global Collection\n",
    "    Collection=collection\n",
    "    print(\"Collection is named\", Collection)\n",
    "    \n",
    "def DialectName(dialect):\n",
    "    global DialectChoice\n",
    "    global Dialect\n",
    "    Dialect=dialect\n",
    "    print(\"Collection is written in the\", Dialect,\"dialect\")   \n",
    "    \n",
    "def metadataLocation(directory):\n",
    "    global LocationChoice\n",
    "    global MetadataLocation\n",
    "    MetadataLocation=directory\n",
    "    print(\"The local directory\", MetadataLocation,\"contains the metadata for evaluation\")    \n",
    "    \n",
    "w=interactive(OrganizationChoices, organization='')    \n",
    "\n",
    "w2=interactive(CollectionName, collection='')\n",
    "\n",
    "w3=interactive(DialectName, dialect='')\n",
    "\n",
    "w4=interactive(metadataLocation, directory='')    \n",
    "\n",
    "display(w)\n",
    "display(w2)\n",
    "display(w3)\n",
    "display(w4)"
   ]
  },
  {
   "cell_type": "markdown",
   "metadata": {},
   "source": [
    "Copy the metadata to the new directory structure."
   ]
  },
  {
   "cell_type": "code",
   "execution_count": 13,
   "metadata": {
    "collapsed": true
   },
   "outputs": [],
   "source": [
    "MetadataDestination=os.path.join('../collection',Organization,Collection,Dialect,'xml')\n",
    "os.makedirs(MetadataDestination, exist_ok=True)\n",
    "\n",
    "src_files = os.listdir(MetadataLocation)\n",
    "for file_name in src_files:\n",
    "    full_file_name = os.path.join(MetadataLocation, file_name)\n",
    "    if (os.path.isfile(full_file_name)):\n",
    "        shutil.copy(full_file_name, MetadataDestination)"
   ]
  },
  {
   "cell_type": "markdown",
   "metadata": {
    "collapsed": true
   },
   "source": [
    "### Go back to the Metadata2Data Notebook\n",
    "\n",
    "* [Metadata To Data](Metadata2Data.ipynb)\n"
   ]
  },
  {
   "cell_type": "code",
   "execution_count": null,
   "metadata": {
    "collapsed": true
   },
   "outputs": [],
   "source": []
  }
 ],
 "metadata": {
  "kernelspec": {
   "display_name": "Python 3",
   "language": "python",
   "name": "python3"
  },
  "language_info": {
   "codemirror_mode": {
    "name": "ipython",
    "version": 3
   },
   "file_extension": ".py",
   "mimetype": "text/x-python",
   "name": "python",
   "nbconvert_exporter": "python",
   "pygments_lexer": "ipython3",
   "version": "3.6.1"
  }
 },
 "nbformat": 4,
 "nbformat_minor": 2
}
