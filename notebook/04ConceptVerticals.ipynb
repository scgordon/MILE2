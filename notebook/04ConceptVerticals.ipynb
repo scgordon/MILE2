{
 "cells": [
  {
   "cell_type": "markdown",
   "metadata": {},
   "source": [
    "##  This notebook allows the user to look at all the content a specific concept contains, collection wide. It utilizes the data.csv created by the Evaluator service used in the Metadata2Data notebook."
   ]
  },
  {
   "cell_type": "markdown",
   "metadata": {},
   "source": [
    "Read in a csv that the user selects by selecting the organization and collection. "
   ]
  },
  {
   "cell_type": "code",
   "execution_count": 5,
   "metadata": {
    "scrolled": true
   },
   "outputs": [
    {
     "data": {
      "text/html": [
       "\n",
       "    <div class=\"bk-root\">\n",
       "        <a href=\"https://bokeh.pydata.org\" target=\"_blank\" class=\"bk-logo bk-logo-small bk-logo-notebook\"></a>\n",
       "        <span id=\"04d3dd79-6a50-4bc7-9404-6bd4c72c476b\">Loading BokehJS ...</span>\n",
       "    </div>"
      ]
     },
     "metadata": {},
     "output_type": "display_data"
    },
    {
     "data": {
      "application/javascript": [
       "\n",
       "(function(root) {\n",
       "  function now() {\n",
       "    return new Date();\n",
       "  }\n",
       "\n",
       "  var force = true;\n",
       "\n",
       "  if (typeof (root._bokeh_onload_callbacks) === \"undefined\" || force === true) {\n",
       "    root._bokeh_onload_callbacks = [];\n",
       "    root._bokeh_is_loading = undefined;\n",
       "  }\n",
       "\n",
       "\n",
       "  \n",
       "  if (typeof (root._bokeh_timeout) === \"undefined\" || force === true) {\n",
       "    root._bokeh_timeout = Date.now() + 5000;\n",
       "    root._bokeh_failed_load = false;\n",
       "  }\n",
       "\n",
       "  var NB_LOAD_WARNING = {'data': {'text/html':\n",
       "     \"<div style='background-color: #fdd'>\\n\"+\n",
       "     \"<p>\\n\"+\n",
       "     \"BokehJS does not appear to have successfully loaded. If loading BokehJS from CDN, this \\n\"+\n",
       "     \"may be due to a slow or bad network connection. Possible fixes:\\n\"+\n",
       "     \"</p>\\n\"+\n",
       "     \"<ul>\\n\"+\n",
       "     \"<li>re-rerun `output_notebook()` to attempt to load from CDN again, or</li>\\n\"+\n",
       "     \"<li>use INLINE resources instead, as so:</li>\\n\"+\n",
       "     \"</ul>\\n\"+\n",
       "     \"<code>\\n\"+\n",
       "     \"from bokeh.resources import INLINE\\n\"+\n",
       "     \"output_notebook(resources=INLINE)\\n\"+\n",
       "     \"</code>\\n\"+\n",
       "     \"</div>\"}};\n",
       "\n",
       "  function display_loaded() {\n",
       "    if (root.Bokeh !== undefined) {\n",
       "      var el = document.getElementById(\"04d3dd79-6a50-4bc7-9404-6bd4c72c476b\");\n",
       "      if (el != null) {\n",
       "        el.textContent = \"BokehJS \" + Bokeh.version + \" successfully loaded.\";\n",
       "      }\n",
       "    } else if (Date.now() < root._bokeh_timeout) {\n",
       "      setTimeout(display_loaded, 100)\n",
       "    }\n",
       "  }\n",
       "\n",
       "\n",
       "  function run_callbacks() {\n",
       "    try {\n",
       "      root._bokeh_onload_callbacks.forEach(function(callback) { callback() });\n",
       "    }\n",
       "    finally {\n",
       "      delete root._bokeh_onload_callbacks\n",
       "    }\n",
       "    console.info(\"Bokeh: all callbacks have finished\");\n",
       "  }\n",
       "\n",
       "  function load_libs(js_urls, callback) {\n",
       "    root._bokeh_onload_callbacks.push(callback);\n",
       "    if (root._bokeh_is_loading > 0) {\n",
       "      console.log(\"Bokeh: BokehJS is being loaded, scheduling callback at\", now());\n",
       "      return null;\n",
       "    }\n",
       "    if (js_urls == null || js_urls.length === 0) {\n",
       "      run_callbacks();\n",
       "      return null;\n",
       "    }\n",
       "    console.log(\"Bokeh: BokehJS not loaded, scheduling load and callback at\", now());\n",
       "    root._bokeh_is_loading = js_urls.length;\n",
       "    for (var i = 0; i < js_urls.length; i++) {\n",
       "      var url = js_urls[i];\n",
       "      var s = document.createElement('script');\n",
       "      s.src = url;\n",
       "      s.async = false;\n",
       "      s.onreadystatechange = s.onload = function() {\n",
       "        root._bokeh_is_loading--;\n",
       "        if (root._bokeh_is_loading === 0) {\n",
       "          console.log(\"Bokeh: all BokehJS libraries loaded\");\n",
       "          run_callbacks()\n",
       "        }\n",
       "      };\n",
       "      s.onerror = function() {\n",
       "        console.warn(\"failed to load library \" + url);\n",
       "      };\n",
       "      console.log(\"Bokeh: injecting script tag for BokehJS library: \", url);\n",
       "      document.getElementsByTagName(\"head\")[0].appendChild(s);\n",
       "    }\n",
       "  };var element = document.getElementById(\"04d3dd79-6a50-4bc7-9404-6bd4c72c476b\");\n",
       "  if (element == null) {\n",
       "    console.log(\"Bokeh: ERROR: autoload.js configured with elementid '04d3dd79-6a50-4bc7-9404-6bd4c72c476b' but no matching script tag was found. \")\n",
       "    return false;\n",
       "  }\n",
       "\n",
       "  var js_urls = [\"https://cdn.pydata.org/bokeh/release/bokeh-0.12.7.min.js\", \"https://cdn.pydata.org/bokeh/release/bokeh-widgets-0.12.7.min.js\", \"https://cdn.pydata.org/bokeh/release/bokeh-tables-0.12.7.min.js\", \"https://cdn.pydata.org/bokeh/release/bokeh-gl-0.12.7.min.js\"];\n",
       "\n",
       "  var inline_js = [\n",
       "    function(Bokeh) {\n",
       "      Bokeh.set_log_level(\"info\");\n",
       "    },\n",
       "    \n",
       "    function(Bokeh) {\n",
       "      \n",
       "    },\n",
       "    \n",
       "    function(Bokeh) {\n",
       "      \n",
       "      document.getElementById(\"04d3dd79-6a50-4bc7-9404-6bd4c72c476b\").textContent = \"BokehJS is loading...\";\n",
       "    },\n",
       "    function(Bokeh) {\n",
       "      console.log(\"Bokeh: injecting CSS: https://cdn.pydata.org/bokeh/release/bokeh-0.12.7.min.css\");\n",
       "      Bokeh.embed.inject_css(\"https://cdn.pydata.org/bokeh/release/bokeh-0.12.7.min.css\");\n",
       "      console.log(\"Bokeh: injecting CSS: https://cdn.pydata.org/bokeh/release/bokeh-widgets-0.12.7.min.css\");\n",
       "      Bokeh.embed.inject_css(\"https://cdn.pydata.org/bokeh/release/bokeh-widgets-0.12.7.min.css\");\n",
       "      console.log(\"Bokeh: injecting CSS: https://cdn.pydata.org/bokeh/release/bokeh-tables-0.12.7.min.css\");\n",
       "      Bokeh.embed.inject_css(\"https://cdn.pydata.org/bokeh/release/bokeh-tables-0.12.7.min.css\");\n",
       "    }\n",
       "  ];\n",
       "\n",
       "  function run_inline_js() {\n",
       "    \n",
       "    if ((root.Bokeh !== undefined) || (force === true)) {\n",
       "      for (var i = 0; i < inline_js.length; i++) {\n",
       "        inline_js[i].call(root, root.Bokeh);\n",
       "      }if (force === true) {\n",
       "        display_loaded();\n",
       "      }} else if (Date.now() < root._bokeh_timeout) {\n",
       "      setTimeout(run_inline_js, 100);\n",
       "    } else if (!root._bokeh_failed_load) {\n",
       "      console.log(\"Bokeh: BokehJS failed to load within specified timeout.\");\n",
       "      root._bokeh_failed_load = true;\n",
       "    } else if (force !== true) {\n",
       "      var cell = $(document.getElementById(\"04d3dd79-6a50-4bc7-9404-6bd4c72c476b\")).parents('.cell').data().cell;\n",
       "      cell.output_area.append_execute_result(NB_LOAD_WARNING)\n",
       "    }\n",
       "\n",
       "  }\n",
       "\n",
       "  if (root._bokeh_is_loading === 0) {\n",
       "    console.log(\"Bokeh: BokehJS loaded, going straight to plotting\");\n",
       "    run_inline_js();\n",
       "  } else {\n",
       "    load_libs(js_urls, function() {\n",
       "      console.log(\"Bokeh: BokehJS plotting callback run at\", now());\n",
       "      run_inline_js();\n",
       "    });\n",
       "  }\n",
       "}(window));"
      ]
     },
     "metadata": {},
     "output_type": "display_data"
    }
   ],
   "source": [
    "import pandas as pd\n",
    "import os\n",
    "from os import walk\n",
    "import fnmatch\n",
    "from ipywidgets import *\n",
    "import ipywidgets as widgets\n",
    "from bokeh.charts import output_notebook, show, Bar\n",
    "from bokeh.plotting import figure\n",
    "from bokeh.models import Range1d, HoverTool, ResizeTool\n",
    "from bokeh.charts import defaults\n",
    "from bokeh.models import Legend\n",
    "pd.options.display.max_colwidth=200\n",
    "defaults.width = 1800\n",
    "defaults.height = 1000\n",
    "output_notebook()\n",
    "#from ipywidgets import Button, Layout\n",
    "#from glob import glob"
   ]
  },
  {
   "cell_type": "markdown",
   "metadata": {},
   "source": [
    "### query the directory for data files"
   ]
  },
  {
   "cell_type": "markdown",
   "metadata": {},
   "source": [
    "Create a list of the data files."
   ]
  },
  {
   "cell_type": "code",
   "execution_count": 6,
   "metadata": {},
   "outputs": [
    {
     "data": {
      "text/plain": [
       "['DataONE/DRYAD_Dryad_Occurance.csv',\n",
       " 'DataONE/DRYAD_Dryad_RAD.csv',\n",
       " 'DataONE/DRYAD_Dryad_QuickE.csv']"
      ]
     },
     "execution_count": 6,
     "metadata": {},
     "output_type": "execute_result"
    }
   ],
   "source": [
    "DataFiles=[]\n",
    "for path, subdirectories, filenames in os.walk('../data/'):\n",
    "    for filename in filenames:\n",
    "        if fnmatch.fnmatch(filename, '*.csv'):\n",
    "            DataFiles.append(os.path.join(path,filename).split(\"../data/\", 1)[-1])\n",
    "DataFiles        "
   ]
  },
  {
   "cell_type": "markdown",
   "metadata": {},
   "source": [
    "### Choose the data you want to look at by creating a dropdown with a function that uses the list of files"
   ]
  },
  {
   "cell_type": "markdown",
   "metadata": {},
   "source": [
    "Function that reads the selected csv into a dataframe"
   ]
  },
  {
   "cell_type": "code",
   "execution_count": 7,
   "metadata": {},
   "outputs": [],
   "source": [
    "def DataChoices(DataFile):\n",
    "    global CollectionConceptsDF\n",
    "    CollectionConceptsDF= pd.read_csv(os.path.join('../data', DataFile))\n",
    "    return CollectionConceptsDF"
   ]
  },
  {
   "cell_type": "markdown",
   "metadata": {},
   "source": [
    "Choose the CSV you want to examine. The default dataframe is created from data.csv "
   ]
  },
  {
   "cell_type": "code",
   "execution_count": 8,
   "metadata": {
    "scrolled": true
   },
   "outputs": [
    {
     "data": {
      "application/vnd.jupyter.widget-view+json": {
       "model_id": "0fd73644091347e2927641d495d18a2b"
      }
     },
     "metadata": {},
     "output_type": "display_data"
    }
   ],
   "source": [
    "interactive(DataChoices, DataFile=DataFiles)"
   ]
  },
  {
   "cell_type": "markdown",
   "metadata": {},
   "source": [
    "###  Let's get rid of the columns we won't use for this analysis. We already know the organization and dialect after we have selected the organization and collection. The xpaths aren't needed either."
   ]
  },
  {
   "cell_type": "code",
   "execution_count": 9,
   "metadata": {},
   "outputs": [
    {
     "ename": "ValueError",
     "evalue": "labels ['Dialect' 'XPath' 'DialectDefinition'] not contained in axis",
     "output_type": "error",
     "traceback": [
      "\u001b[0;31m---------------------------------------------------------------------------\u001b[0m",
      "\u001b[0;31mValueError\u001b[0m                                Traceback (most recent call last)",
      "\u001b[0;32m<ipython-input-9-528b2c0397b7>\u001b[0m in \u001b[0;36m<module>\u001b[0;34m()\u001b[0m\n\u001b[0;32m----> 1\u001b[0;31m \u001b[0mCollectionConceptsDF\u001b[0m\u001b[0;34m.\u001b[0m\u001b[0mdrop\u001b[0m\u001b[0;34m(\u001b[0m\u001b[0;34m[\u001b[0m\u001b[0;34m'Collection'\u001b[0m\u001b[0;34m,\u001b[0m\u001b[0;34m'Dialect'\u001b[0m\u001b[0;34m,\u001b[0m \u001b[0;34m'XPath'\u001b[0m\u001b[0;34m,\u001b[0m \u001b[0;34m'DialectDefinition'\u001b[0m\u001b[0;34m]\u001b[0m\u001b[0;34m,\u001b[0m \u001b[0maxis\u001b[0m\u001b[0;34m=\u001b[0m\u001b[0;36m1\u001b[0m\u001b[0;34m,\u001b[0m \u001b[0minplace\u001b[0m\u001b[0;34m=\u001b[0m\u001b[0;32mTrue\u001b[0m\u001b[0;34m)\u001b[0m\u001b[0;34m\u001b[0m\u001b[0m\n\u001b[0m\u001b[1;32m      2\u001b[0m \u001b[0mCollectionConceptsDF\u001b[0m\u001b[0;34m\u001b[0m\u001b[0m\n",
      "\u001b[0;32m/anaconda/lib/python3.6/site-packages/pandas/core/generic.py\u001b[0m in \u001b[0;36mdrop\u001b[0;34m(self, labels, axis, level, inplace, errors)\u001b[0m\n\u001b[1;32m   2048\u001b[0m                 \u001b[0mnew_axis\u001b[0m \u001b[0;34m=\u001b[0m \u001b[0maxis\u001b[0m\u001b[0;34m.\u001b[0m\u001b[0mdrop\u001b[0m\u001b[0;34m(\u001b[0m\u001b[0mlabels\u001b[0m\u001b[0;34m,\u001b[0m \u001b[0mlevel\u001b[0m\u001b[0;34m=\u001b[0m\u001b[0mlevel\u001b[0m\u001b[0;34m,\u001b[0m \u001b[0merrors\u001b[0m\u001b[0;34m=\u001b[0m\u001b[0merrors\u001b[0m\u001b[0;34m)\u001b[0m\u001b[0;34m\u001b[0m\u001b[0m\n\u001b[1;32m   2049\u001b[0m             \u001b[0;32melse\u001b[0m\u001b[0;34m:\u001b[0m\u001b[0;34m\u001b[0m\u001b[0m\n\u001b[0;32m-> 2050\u001b[0;31m                 \u001b[0mnew_axis\u001b[0m \u001b[0;34m=\u001b[0m \u001b[0maxis\u001b[0m\u001b[0;34m.\u001b[0m\u001b[0mdrop\u001b[0m\u001b[0;34m(\u001b[0m\u001b[0mlabels\u001b[0m\u001b[0;34m,\u001b[0m \u001b[0merrors\u001b[0m\u001b[0;34m=\u001b[0m\u001b[0merrors\u001b[0m\u001b[0;34m)\u001b[0m\u001b[0;34m\u001b[0m\u001b[0m\n\u001b[0m\u001b[1;32m   2051\u001b[0m             \u001b[0mdropped\u001b[0m \u001b[0;34m=\u001b[0m \u001b[0mself\u001b[0m\u001b[0;34m.\u001b[0m\u001b[0mreindex\u001b[0m\u001b[0;34m(\u001b[0m\u001b[0;34m**\u001b[0m\u001b[0;34m{\u001b[0m\u001b[0maxis_name\u001b[0m\u001b[0;34m:\u001b[0m \u001b[0mnew_axis\u001b[0m\u001b[0;34m}\u001b[0m\u001b[0;34m)\u001b[0m\u001b[0;34m\u001b[0m\u001b[0m\n\u001b[1;32m   2052\u001b[0m             \u001b[0;32mtry\u001b[0m\u001b[0;34m:\u001b[0m\u001b[0;34m\u001b[0m\u001b[0m\n",
      "\u001b[0;32m/anaconda/lib/python3.6/site-packages/pandas/core/indexes/base.py\u001b[0m in \u001b[0;36mdrop\u001b[0;34m(self, labels, errors)\u001b[0m\n\u001b[1;32m   3573\u001b[0m             \u001b[0;32mif\u001b[0m \u001b[0merrors\u001b[0m \u001b[0;34m!=\u001b[0m \u001b[0;34m'ignore'\u001b[0m\u001b[0;34m:\u001b[0m\u001b[0;34m\u001b[0m\u001b[0m\n\u001b[1;32m   3574\u001b[0m                 raise ValueError('labels %s not contained in axis' %\n\u001b[0;32m-> 3575\u001b[0;31m                                  labels[mask])\n\u001b[0m\u001b[1;32m   3576\u001b[0m             \u001b[0mindexer\u001b[0m \u001b[0;34m=\u001b[0m \u001b[0mindexer\u001b[0m\u001b[0;34m[\u001b[0m\u001b[0;34m~\u001b[0m\u001b[0mmask\u001b[0m\u001b[0;34m]\u001b[0m\u001b[0;34m\u001b[0m\u001b[0m\n\u001b[1;32m   3577\u001b[0m         \u001b[0;32mreturn\u001b[0m \u001b[0mself\u001b[0m\u001b[0;34m.\u001b[0m\u001b[0mdelete\u001b[0m\u001b[0;34m(\u001b[0m\u001b[0mindexer\u001b[0m\u001b[0;34m)\u001b[0m\u001b[0;34m\u001b[0m\u001b[0m\n",
      "\u001b[0;31mValueError\u001b[0m: labels ['Dialect' 'XPath' 'DialectDefinition'] not contained in axis"
     ]
    }
   ],
   "source": [
    "CollectionConceptsDF.drop(['Collection','Dialect', 'XPath', 'DialectDefinition'], axis=1, inplace=True)\n",
    "CollectionConceptsDF"
   ]
  },
  {
   "cell_type": "markdown",
   "metadata": {},
   "source": [
    "### Now that we have the data we want, what are the concepts that exist in the collection?"
   ]
  },
  {
   "cell_type": "markdown",
   "metadata": {},
   "source": [
    "Crreate a list of unique items from the Concept column"
   ]
  },
  {
   "cell_type": "code",
   "execution_count": 6,
   "metadata": {},
   "outputs": [
    {
     "data": {
      "text/plain": [
       "['Metadata Identifier',\n",
       " 'Metadata Language',\n",
       " 'Unknown',\n",
       " 'Resource Type',\n",
       " 'Metadata Contact',\n",
       " 'Metadata Modified Date',\n",
       " 'Metadata Dates',\n",
       " 'Metadata Standard Citation',\n",
       " 'Metadata Standard Version',\n",
       " 'Spatial Representation',\n",
       " 'Publication Information',\n",
       " 'Abstract',\n",
       " 'Purpose',\n",
       " 'Resource Contact',\n",
       " 'Resource Format',\n",
       " 'Theme Keyword',\n",
       " 'Keyword',\n",
       " 'Keyword Type',\n",
       " 'Keyword Vocabulary',\n",
       " 'Keyword Vocabulary Citation',\n",
       " 'Place Keyword',\n",
       " 'Platform Keyword',\n",
       " 'Platform Keyword Vocabulary',\n",
       " 'Instrument Keyword',\n",
       " 'Resource Language',\n",
       " 'Geographic Description',\n",
       " 'Spatial Extent',\n",
       " 'Temporal Extent',\n",
       " 'Supplemental Information',\n",
       " 'Related Resource Identifier',\n",
       " 'VariableType',\n",
       " 'Processing Level',\n",
       " 'Distribution Contact',\n",
       " 'Resource Cost or Fees',\n",
       " 'Distribution Format',\n",
       " 'URL',\n",
       " 'Related URL',\n",
       " 'Data Quality Scope',\n",
       " 'Resource Lineage',\n",
       " 'Instrument',\n",
       " 'Platform',\n",
       " 'Browse File Name',\n",
       " 'Browse Description',\n",
       " 'Browse Format']"
      ]
     },
     "execution_count": 6,
     "metadata": {},
     "output_type": "execute_result"
    }
   ],
   "source": [
    "ConceptVerticals=CollectionConceptsDF.Concept.unique()\n",
    "Verticals=ConceptVerticals.tolist()\n",
    "Verticals"
   ]
  },
  {
   "cell_type": "markdown",
   "metadata": {},
   "source": [
    "Create function that allows us to call up metadata vertical content for a concept"
   ]
  },
  {
   "cell_type": "code",
   "execution_count": 7,
   "metadata": {
    "collapsed": true
   },
   "outputs": [],
   "source": [
    "def ConceptVerticalTable(Concept):\n",
    "    global VerticalTable\n",
    "    VerticalTable = CollectionConceptsDF[CollectionConceptsDF.Concept == Concept]\n",
    "    return VerticalTable"
   ]
  },
  {
   "cell_type": "markdown",
   "metadata": {},
   "source": [
    "Create a dropdown using the function that allows us to create a dataframe of the concept you want as a metadata vertical."
   ]
  },
  {
   "cell_type": "code",
   "execution_count": 8,
   "metadata": {
    "scrolled": true
   },
   "outputs": [
    {
     "data": {
      "application/vnd.jupyter.widget-view+json": {
       "model_id": "a7cff6f42e5f4eca86976c7624b0af59"
      }
     },
     "metadata": {},
     "output_type": "display_data"
    },
    {
     "data": {
      "text/plain": [
       "<function __main__.ConceptVerticalTable>"
      ]
     },
     "execution_count": 8,
     "metadata": {},
     "output_type": "execute_result"
    }
   ],
   "source": [
    "interact(ConceptVerticalTable, Concept=Verticals) "
   ]
  },
  {
   "cell_type": "markdown",
   "metadata": {},
   "source": [
    "Let's group the unique values in the content column and count them up."
   ]
  },
  {
   "cell_type": "code",
   "execution_count": 10,
   "metadata": {
    "scrolled": false
   },
   "outputs": [
    {
     "data": {
      "text/plain": [
       "Content\n",
       "Carpinteria Reef              1\n",
       "FOR01                         1\n",
       "FOR04                         1\n",
       "FOR05                         1\n",
       "Forereef                      1\n",
       "Georgia                       3\n",
       "Goleta Bay                    1\n",
       "Great Lakes                   2\n",
       "Hickory Corners               2\n",
       "Ipswich River Watershed       7\n",
       "KBS                           2\n",
       "Kellogg Biological Station    2\n",
       "LTER                          2\n",
       "Marsh Landing                 3\n",
       "Massachusetts                 7\n",
       "McMurdo Dry Valleys           2\n",
       "Michigan                      2\n",
       "Mohawk Reef                   1\n",
       "Moorea Coral Reef             1\n",
       "New England                   7\n",
       "PIE LTER                      7\n",
       "Parker River Watershed        3\n",
       "Plum Island Ecosystems        7\n",
       "Rattlesnake Creek             1\n",
       "Santa Barbara                 1\n",
       "Sapelo Island                 3\n",
       "USA                           3\n",
       "United States                 7\n",
       "dtype: int64"
      ]
     },
     "execution_count": 10,
     "metadata": {},
     "output_type": "execute_result"
    }
   ],
   "source": [
    "VerticalTable.groupby('Content').size()"
   ]
  },
  {
   "cell_type": "markdown",
   "metadata": {},
   "source": [
    "Use Bokeh to plot a bar chart of the unique values. Remove colons from the values so there are no Bokeh Label errors. "
   ]
  },
  {
   "cell_type": "code",
   "execution_count": 11,
   "metadata": {},
   "outputs": [
    {
     "data": {
      "text/html": [
       "\n",
       "\n",
       "    <div class=\"bk-root\">\n",
       "        <div class=\"bk-plotdiv\" id=\"3425945a-f826-46c3-8e77-249b5b7c8f63\"></div>\n",
       "    </div>\n",
       "<script type=\"text/javascript\">\n",
       "  \n",
       "  (function(global) {\n",
       "    function now() {\n",
       "      return new Date();\n",
       "    }\n",
       "  \n",
       "    var force = false;\n",
       "  \n",
       "    if (typeof (window._bokeh_onload_callbacks) === \"undefined\" || force === true) {\n",
       "      window._bokeh_onload_callbacks = [];\n",
       "      window._bokeh_is_loading = undefined;\n",
       "    }\n",
       "  \n",
       "  \n",
       "    \n",
       "    if (typeof (window._bokeh_timeout) === \"undefined\" || force === true) {\n",
       "      window._bokeh_timeout = Date.now() + 0;\n",
       "      window._bokeh_failed_load = false;\n",
       "    }\n",
       "  \n",
       "    var NB_LOAD_WARNING = {'data': {'text/html':\n",
       "       \"<div style='background-color: #fdd'>\\n\"+\n",
       "       \"<p>\\n\"+\n",
       "       \"BokehJS does not appear to have successfully loaded. If loading BokehJS from CDN, this \\n\"+\n",
       "       \"may be due to a slow or bad network connection. Possible fixes:\\n\"+\n",
       "       \"</p>\\n\"+\n",
       "       \"<ul>\\n\"+\n",
       "       \"<li>re-rerun `output_notebook()` to attempt to load from CDN again, or</li>\\n\"+\n",
       "       \"<li>use INLINE resources instead, as so:</li>\\n\"+\n",
       "       \"</ul>\\n\"+\n",
       "       \"<code>\\n\"+\n",
       "       \"from bokeh.resources import INLINE\\n\"+\n",
       "       \"output_notebook(resources=INLINE)\\n\"+\n",
       "       \"</code>\\n\"+\n",
       "       \"</div>\"}};\n",
       "  \n",
       "    function display_loaded() {\n",
       "      if (window.Bokeh !== undefined) {\n",
       "        var el = document.getElementById(\"3425945a-f826-46c3-8e77-249b5b7c8f63\");\n",
       "        el.textContent = \"BokehJS \" + Bokeh.version + \" successfully loaded.\";\n",
       "      } else if (Date.now() < window._bokeh_timeout) {\n",
       "        setTimeout(display_loaded, 100)\n",
       "      }\n",
       "    }\n",
       "  \n",
       "    function run_callbacks() {\n",
       "      window._bokeh_onload_callbacks.forEach(function(callback) { callback() });\n",
       "      delete window._bokeh_onload_callbacks\n",
       "      console.info(\"Bokeh: all callbacks have finished\");\n",
       "    }\n",
       "  \n",
       "    function load_libs(js_urls, callback) {\n",
       "      window._bokeh_onload_callbacks.push(callback);\n",
       "      if (window._bokeh_is_loading > 0) {\n",
       "        console.log(\"Bokeh: BokehJS is being loaded, scheduling callback at\", now());\n",
       "        return null;\n",
       "      }\n",
       "      if (js_urls == null || js_urls.length === 0) {\n",
       "        run_callbacks();\n",
       "        return null;\n",
       "      }\n",
       "      console.log(\"Bokeh: BokehJS not loaded, scheduling load and callback at\", now());\n",
       "      window._bokeh_is_loading = js_urls.length;\n",
       "      for (var i = 0; i < js_urls.length; i++) {\n",
       "        var url = js_urls[i];\n",
       "        var s = document.createElement('script');\n",
       "        s.src = url;\n",
       "        s.async = false;\n",
       "        s.onreadystatechange = s.onload = function() {\n",
       "          window._bokeh_is_loading--;\n",
       "          if (window._bokeh_is_loading === 0) {\n",
       "            console.log(\"Bokeh: all BokehJS libraries loaded\");\n",
       "            run_callbacks()\n",
       "          }\n",
       "        };\n",
       "        s.onerror = function() {\n",
       "          console.warn(\"failed to load library \" + url);\n",
       "        };\n",
       "        console.log(\"Bokeh: injecting script tag for BokehJS library: \", url);\n",
       "        document.getElementsByTagName(\"head\")[0].appendChild(s);\n",
       "      }\n",
       "    };var element = document.getElementById(\"3425945a-f826-46c3-8e77-249b5b7c8f63\");\n",
       "    if (element == null) {\n",
       "      console.log(\"Bokeh: ERROR: autoload.js configured with elementid '3425945a-f826-46c3-8e77-249b5b7c8f63' but no matching script tag was found. \")\n",
       "      return false;\n",
       "    }\n",
       "  \n",
       "    var js_urls = [];\n",
       "  \n",
       "    var inline_js = [\n",
       "      function(Bokeh) {\n",
       "        (function() {\n",
       "          var fn = function() {\n",
       "            var docs_json = {\"fadbf701-3c7a-461a-aa63-ef437e4a7bb7\":{\"roots\":{\"references\":[{\"attributes\":{\"active_drag\":\"auto\",\"active_scroll\":\"auto\",\"active_tap\":\"auto\",\"tools\":[{\"id\":\"8c1e374b-9665-4ab3-bca2-b1d155c57a27\",\"type\":\"PanTool\"},{\"id\":\"f32f3f26-c30c-410d-a41e-b3f81d1351a2\",\"type\":\"WheelZoomTool\"},{\"id\":\"cb5853cb-7f74-4f94-989c-60891008d34a\",\"type\":\"BoxZoomTool\"},{\"id\":\"1399d5c4-3d0c-4218-a66b-f9d8c576c445\",\"type\":\"SaveTool\"},{\"id\":\"6baa535f-c627-461a-b46b-8be85479c9b8\",\"type\":\"ResetTool\"},{\"id\":\"d74b60a3-8ca9-4b25-a62f-3e7f6762a601\",\"type\":\"HelpTool\"}]},\"id\":\"9ab10874-ef03-4f2d-ad43-1e8b39bd059e\",\"type\":\"Toolbar\"},{\"attributes\":{\"plot\":null,\"text\":\"Vertical Value Occurance Count\"},\"id\":\"4ae60cf5-c2e4-4b77-b253-0d87fa4a6096\",\"type\":\"Title\"},{\"attributes\":{\"data_source\":{\"id\":\"ada7c3dd-1cf7-4297-b8a2-2bc369e1c9ba\",\"type\":\"ColumnDataSource\"},\"glyph\":{\"id\":\"ee4570fe-8191-48ae-a5d5-49b2902ec0a8\",\"type\":\"Rect\"},\"hover_glyph\":null,\"muted_glyph\":null},\"id\":\"a9862e39-d7f9-4d4f-9366-b3f1e0e1c3ee\",\"type\":\"GlyphRenderer\"},{\"attributes\":{\"callback\":null,\"column_names\":[\"x\",\"y\",\"width\",\"height\",\"color\",\"fill_alpha\",\"line_color\",\"line_alpha\",\"label\"],\"data\":{\"Content\":[\"Sapelo Island\"],\"chart_index\":[{\"Content\":\"Sapelo Island\"}],\"color\":[\"#f22c40\"],\"fill_alpha\":[0.8],\"height\":[3.0],\"label\":[{\"Content\":\"Sapelo Island\"}],\"line_alpha\":[1.0],\"line_color\":[\"white\"],\"width\":[0.8],\"x\":[\"Sapelo Island\"],\"y\":[1.5]}},\"id\":\"eca4041f-695e-4bba-8163-1cc891d21686\",\"type\":\"ColumnDataSource\"},{\"attributes\":{\"data_source\":{\"id\":\"eca4041f-695e-4bba-8163-1cc891d21686\",\"type\":\"ColumnDataSource\"},\"glyph\":{\"id\":\"f877d369-6033-4ca0-80fd-6057a298f9bb\",\"type\":\"Rect\"},\"hover_glyph\":null,\"muted_glyph\":null},\"id\":\"fb563655-8437-4ddd-beaf-f9b29ecefdfa\",\"type\":\"GlyphRenderer\"},{\"attributes\":{\"fill_alpha\":{\"field\":\"fill_alpha\"},\"fill_color\":{\"field\":\"color\"},\"height\":{\"field\":\"height\",\"units\":\"data\"},\"line_color\":{\"field\":\"line_color\"},\"width\":{\"field\":\"width\",\"units\":\"data\"},\"x\":{\"field\":\"x\"},\"y\":{\"field\":\"y\"}},\"id\":\"0ba1ee7f-2de0-4685-8813-f6e9e8e15775\",\"type\":\"Rect\"},{\"attributes\":{\"fill_alpha\":{\"field\":\"fill_alpha\"},\"fill_color\":{\"field\":\"color\"},\"height\":{\"field\":\"height\",\"units\":\"data\"},\"line_color\":{\"field\":\"line_color\"},\"width\":{\"field\":\"width\",\"units\":\"data\"},\"x\":{\"field\":\"x\"},\"y\":{\"field\":\"y\"}},\"id\":\"950c2de1-16ff-45f2-92e9-2ba2ec6db8d3\",\"type\":\"Rect\"},{\"attributes\":{\"callback\":null,\"column_names\":[\"x\",\"y\",\"width\",\"height\",\"color\",\"fill_alpha\",\"line_color\",\"line_alpha\",\"label\"],\"data\":{\"Content\":[\"McMurdo Dry Valleys\"],\"chart_index\":[{\"Content\":\"McMurdo Dry Valleys\"}],\"color\":[\"#f22c40\"],\"fill_alpha\":[0.8],\"height\":[2.0],\"label\":[{\"Content\":\"McMurdo Dry Valleys\"}],\"line_alpha\":[1.0],\"line_color\":[\"white\"],\"width\":[0.8],\"x\":[\"McMurdo Dry Valleys\"],\"y\":[1.0]}},\"id\":\"65bb6e4f-7cbb-42f2-86cf-ce4edc9fee2f\",\"type\":\"ColumnDataSource\"},{\"attributes\":{},\"id\":\"1dc4b19a-fab8-4734-a61a-5c3eff798fd0\",\"type\":\"CategoricalTicker\"},{\"attributes\":{\"callback\":null,\"column_names\":[\"x\",\"y\",\"width\",\"height\",\"color\",\"fill_alpha\",\"line_color\",\"line_alpha\",\"label\"],\"data\":{\"Content\":[\"KBS\"],\"chart_index\":[{\"Content\":\"KBS\"}],\"color\":[\"#f22c40\"],\"fill_alpha\":[0.8],\"height\":[2.0],\"label\":[{\"Content\":\"KBS\"}],\"line_alpha\":[1.0],\"line_color\":[\"white\"],\"width\":[0.8],\"x\":[\"KBS\"],\"y\":[1.0]}},\"id\":\"9560692d-1c2a-4e4d-8aed-ff63619fd7ed\",\"type\":\"ColumnDataSource\"},{\"attributes\":{\"callback\":null,\"column_names\":[\"x\",\"y\",\"width\",\"height\",\"color\",\"fill_alpha\",\"line_color\",\"line_alpha\",\"label\"],\"data\":{\"Content\":[\"Parker River Watershed\"],\"chart_index\":[{\"Content\":\"Parker River Watershed\"}],\"color\":[\"#f22c40\"],\"fill_alpha\":[0.8],\"height\":[3.0],\"label\":[{\"Content\":\"Parker River Watershed\"}],\"line_alpha\":[1.0],\"line_color\":[\"white\"],\"width\":[0.8],\"x\":[\"Parker River Watershed\"],\"y\":[1.5]}},\"id\":\"43813ea5-8da4-407c-9b89-d35685a3efa8\",\"type\":\"ColumnDataSource\"},{\"attributes\":{\"fill_alpha\":{\"field\":\"fill_alpha\"},\"fill_color\":{\"field\":\"color\"},\"height\":{\"field\":\"height\",\"units\":\"data\"},\"line_color\":{\"field\":\"line_color\"},\"width\":{\"field\":\"width\",\"units\":\"data\"},\"x\":{\"field\":\"x\"},\"y\":{\"field\":\"y\"}},\"id\":\"faf5c454-cf95-4bbb-a639-2aa7c3f9ff8d\",\"type\":\"Rect\"},{\"attributes\":{\"data_source\":{\"id\":\"43813ea5-8da4-407c-9b89-d35685a3efa8\",\"type\":\"ColumnDataSource\"},\"glyph\":{\"id\":\"0ba1ee7f-2de0-4685-8813-f6e9e8e15775\",\"type\":\"Rect\"},\"hover_glyph\":null,\"muted_glyph\":null},\"id\":\"aab0c885-4cbb-41ed-a94c-665d2232c17f\",\"type\":\"GlyphRenderer\"},{\"attributes\":{\"data_source\":{\"id\":\"65bb6e4f-7cbb-42f2-86cf-ce4edc9fee2f\",\"type\":\"ColumnDataSource\"},\"glyph\":{\"id\":\"43aac7fd-22b1-4fcc-a693-1cbc7e3540af\",\"type\":\"Rect\"},\"hover_glyph\":null,\"muted_glyph\":null},\"id\":\"ae832c39-5ef3-476a-be24-1224f8a38d88\",\"type\":\"GlyphRenderer\"},{\"attributes\":{\"callback\":null,\"column_names\":[\"x\",\"y\",\"width\",\"height\",\"color\",\"fill_alpha\",\"line_color\",\"line_alpha\",\"label\"],\"data\":{\"Content\":[\"Great Lakes\"],\"chart_index\":[{\"Content\":\"Great Lakes\"}],\"color\":[\"#f22c40\"],\"fill_alpha\":[0.8],\"height\":[2.0],\"label\":[{\"Content\":\"Great Lakes\"}],\"line_alpha\":[1.0],\"line_color\":[\"white\"],\"width\":[0.8],\"x\":[\"Great Lakes\"],\"y\":[1.0]}},\"id\":\"a91bbbae-ec50-4096-a2b9-bd573245d9e6\",\"type\":\"ColumnDataSource\"},{\"attributes\":{\"callback\":null,\"column_names\":[\"x\",\"y\",\"width\",\"height\",\"color\",\"fill_alpha\",\"line_color\",\"line_alpha\",\"label\"],\"data\":{\"Content\":[\"LTER\"],\"chart_index\":[{\"Content\":\"LTER\"}],\"color\":[\"#f22c40\"],\"fill_alpha\":[0.8],\"height\":[2.0],\"label\":[{\"Content\":\"LTER\"}],\"line_alpha\":[1.0],\"line_color\":[\"white\"],\"width\":[0.8],\"x\":[\"LTER\"],\"y\":[1.0]}},\"id\":\"859cf93e-27e6-4b5f-9865-5345ede08237\",\"type\":\"ColumnDataSource\"},{\"attributes\":{\"callback\":null,\"column_names\":[\"x\",\"y\",\"width\",\"height\",\"color\",\"fill_alpha\",\"line_color\",\"line_alpha\",\"label\"],\"data\":{\"Content\":[\"Kellogg Biological Station\"],\"chart_index\":[{\"Content\":\"Kellogg Biological Station\"}],\"color\":[\"#f22c40\"],\"fill_alpha\":[0.8],\"height\":[2.0],\"label\":[{\"Content\":\"Kellogg Biological Station\"}],\"line_alpha\":[1.0],\"line_color\":[\"white\"],\"width\":[0.8],\"x\":[\"Kellogg Biological Station\"],\"y\":[1.0]}},\"id\":\"26262cce-0898-4694-970a-9858f3867ea4\",\"type\":\"ColumnDataSource\"},{\"attributes\":{\"data_source\":{\"id\":\"859cf93e-27e6-4b5f-9865-5345ede08237\",\"type\":\"ColumnDataSource\"},\"glyph\":{\"id\":\"faf5c454-cf95-4bbb-a639-2aa7c3f9ff8d\",\"type\":\"Rect\"},\"hover_glyph\":null,\"muted_glyph\":null},\"id\":\"97710596-c6fb-4add-9d62-b01b569f3c9e\",\"type\":\"GlyphRenderer\"},{\"attributes\":{\"fill_alpha\":{\"field\":\"fill_alpha\"},\"fill_color\":{\"field\":\"color\"},\"height\":{\"field\":\"height\",\"units\":\"data\"},\"line_color\":{\"field\":\"line_color\"},\"width\":{\"field\":\"width\",\"units\":\"data\"},\"x\":{\"field\":\"x\"},\"y\":{\"field\":\"y\"}},\"id\":\"bd20d462-81df-45ae-8145-af3a084d11e9\",\"type\":\"Rect\"},{\"attributes\":{\"bottom_units\":\"screen\",\"fill_alpha\":{\"value\":0.5},\"fill_color\":{\"value\":\"lightgrey\"},\"left_units\":\"screen\",\"level\":\"overlay\",\"line_alpha\":{\"value\":1.0},\"line_color\":{\"value\":\"black\"},\"line_dash\":[4,4],\"line_width\":{\"value\":2},\"plot\":null,\"render_mode\":\"css\",\"right_units\":\"screen\",\"top_units\":\"screen\"},\"id\":\"4a3892ad-0af5-4010-b8c0-fe7578dc423b\",\"type\":\"BoxAnnotation\"},{\"attributes\":{\"callback\":null,\"factors\":[\"Carpinteria Reef\",\"FOR01\",\"FOR04\",\"FOR05\",\"Forereef\",\"Georgia\",\"Goleta Bay\",\"Great Lakes\",\"Hickory Corners\",\"Ipswich River Watershed\",\"KBS\",\"Kellogg Biological Station\",\"LTER\",\"Marsh Landing\",\"Massachusetts\",\"McMurdo Dry Valleys\",\"Michigan\",\"Mohawk Reef\",\"Moorea Coral Reef\",\"New England\",\"PIE LTER\",\"Parker River Watershed\",\"Plum Island Ecosystems\",\"Rattlesnake Creek\",\"Santa Barbara\",\"Sapelo Island\",\"USA\",\"United States\"]},\"id\":\"944e2e6a-a1b9-4782-b119-a275311dcc83\",\"type\":\"FactorRange\"},{\"attributes\":{\"plot\":{\"id\":\"67cd3b87-53da-4304-99fe-43b9f8152bf9\",\"subtype\":\"Chart\",\"type\":\"Plot\"}},\"id\":\"8c1e374b-9665-4ab3-bca2-b1d155c57a27\",\"type\":\"PanTool\"},{\"attributes\":{\"data_source\":{\"id\":\"9560692d-1c2a-4e4d-8aed-ff63619fd7ed\",\"type\":\"ColumnDataSource\"},\"glyph\":{\"id\":\"bd20d462-81df-45ae-8145-af3a084d11e9\",\"type\":\"Rect\"},\"hover_glyph\":null,\"muted_glyph\":null},\"id\":\"93c3c583-e19a-4f10-9e92-c278ef85e30a\",\"type\":\"GlyphRenderer\"},{\"attributes\":{\"plot\":{\"id\":\"67cd3b87-53da-4304-99fe-43b9f8152bf9\",\"subtype\":\"Chart\",\"type\":\"Plot\"}},\"id\":\"f32f3f26-c30c-410d-a41e-b3f81d1351a2\",\"type\":\"WheelZoomTool\"},{\"attributes\":{\"overlay\":{\"id\":\"4a3892ad-0af5-4010-b8c0-fe7578dc423b\",\"type\":\"BoxAnnotation\"},\"plot\":{\"id\":\"67cd3b87-53da-4304-99fe-43b9f8152bf9\",\"subtype\":\"Chart\",\"type\":\"Plot\"}},\"id\":\"cb5853cb-7f74-4f94-989c-60891008d34a\",\"type\":\"BoxZoomTool\"},{\"attributes\":{\"callback\":null,\"column_names\":[\"x\",\"y\",\"width\",\"height\",\"color\",\"fill_alpha\",\"line_color\",\"line_alpha\",\"label\"],\"data\":{\"Content\":[\"Hickory Corners\"],\"chart_index\":[{\"Content\":\"Hickory Corners\"}],\"color\":[\"#f22c40\"],\"fill_alpha\":[0.8],\"height\":[2.0],\"label\":[{\"Content\":\"Hickory Corners\"}],\"line_alpha\":[1.0],\"line_color\":[\"white\"],\"width\":[0.8],\"x\":[\"Hickory Corners\"],\"y\":[1.0]}},\"id\":\"d09227df-5bf3-4ab2-b96f-3824edb00044\",\"type\":\"ColumnDataSource\"},{\"attributes\":{\"plot\":{\"id\":\"67cd3b87-53da-4304-99fe-43b9f8152bf9\",\"subtype\":\"Chart\",\"type\":\"Plot\"}},\"id\":\"1399d5c4-3d0c-4218-a66b-f9d8c576c445\",\"type\":\"SaveTool\"},{\"attributes\":{\"plot\":{\"id\":\"67cd3b87-53da-4304-99fe-43b9f8152bf9\",\"subtype\":\"Chart\",\"type\":\"Plot\"}},\"id\":\"6baa535f-c627-461a-b46b-8be85479c9b8\",\"type\":\"ResetTool\"},{\"attributes\":{\"fill_alpha\":{\"field\":\"fill_alpha\"},\"fill_color\":{\"field\":\"color\"},\"height\":{\"field\":\"height\",\"units\":\"data\"},\"line_color\":{\"field\":\"line_color\"},\"width\":{\"field\":\"width\",\"units\":\"data\"},\"x\":{\"field\":\"x\"},\"y\":{\"field\":\"y\"}},\"id\":\"1c454205-360c-4258-b1cb-6f7f113d862b\",\"type\":\"Rect\"},{\"attributes\":{\"plot\":{\"id\":\"67cd3b87-53da-4304-99fe-43b9f8152bf9\",\"subtype\":\"Chart\",\"type\":\"Plot\"}},\"id\":\"d74b60a3-8ca9-4b25-a62f-3e7f6762a601\",\"type\":\"HelpTool\"},{\"attributes\":{\"data_source\":{\"id\":\"fc13aeec-7ca8-4735-bf2d-87d89f7034b4\",\"type\":\"ColumnDataSource\"},\"glyph\":{\"id\":\"3e2e1c38-b49c-4839-9196-c4a12d27a1d7\",\"type\":\"Rect\"},\"hover_glyph\":null,\"muted_glyph\":null},\"id\":\"0508b600-44db-49d2-b535-ae29fb04ffb3\",\"type\":\"GlyphRenderer\"},{\"attributes\":{\"callback\":null,\"column_names\":[\"x\",\"y\",\"width\",\"height\",\"color\",\"fill_alpha\",\"line_color\",\"line_alpha\",\"label\"],\"data\":{\"Content\":[\"Massachusetts\"],\"chart_index\":[{\"Content\":\"Massachusetts\"}],\"color\":[\"#f22c40\"],\"fill_alpha\":[0.8],\"height\":[7.0],\"label\":[{\"Content\":\"Massachusetts\"}],\"line_alpha\":[1.0],\"line_color\":[\"white\"],\"width\":[0.8],\"x\":[\"Massachusetts\"],\"y\":[3.5]}},\"id\":\"99b6e6cc-1d85-41b2-a8c5-7cc5188daffb\",\"type\":\"ColumnDataSource\"},{\"attributes\":{\"callback\":null,\"column_names\":[\"x\",\"y\",\"width\",\"height\",\"color\",\"fill_alpha\",\"line_color\",\"line_alpha\",\"label\"],\"data\":{\"Content\":[\"Mohawk Reef\"],\"chart_index\":[{\"Content\":\"Mohawk Reef\"}],\"color\":[\"#f22c40\"],\"fill_alpha\":[0.8],\"height\":[1.0],\"label\":[{\"Content\":\"Mohawk Reef\"}],\"line_alpha\":[1.0],\"line_color\":[\"white\"],\"width\":[0.8],\"x\":[\"Mohawk Reef\"],\"y\":[0.5]}},\"id\":\"7e048643-eb60-466f-bc77-82d32eba67c8\",\"type\":\"ColumnDataSource\"},{\"attributes\":{\"fill_alpha\":{\"field\":\"fill_alpha\"},\"fill_color\":{\"field\":\"color\"},\"height\":{\"field\":\"height\",\"units\":\"data\"},\"line_color\":{\"field\":\"line_color\"},\"width\":{\"field\":\"width\",\"units\":\"data\"},\"x\":{\"field\":\"x\"},\"y\":{\"field\":\"y\"}},\"id\":\"2be1a807-f775-4787-8f9d-c8c3fac108f0\",\"type\":\"Rect\"},{\"attributes\":{\"data_source\":{\"id\":\"26262cce-0898-4694-970a-9858f3867ea4\",\"type\":\"ColumnDataSource\"},\"glyph\":{\"id\":\"1c454205-360c-4258-b1cb-6f7f113d862b\",\"type\":\"Rect\"},\"hover_glyph\":null,\"muted_glyph\":null},\"id\":\"4aef08c2-5d1a-47c2-93d0-d54e2ffc0ced\",\"type\":\"GlyphRenderer\"},{\"attributes\":{\"fill_alpha\":{\"field\":\"fill_alpha\"},\"fill_color\":{\"field\":\"color\"},\"height\":{\"field\":\"height\",\"units\":\"data\"},\"line_color\":{\"field\":\"line_color\"},\"width\":{\"field\":\"width\",\"units\":\"data\"},\"x\":{\"field\":\"x\"},\"y\":{\"field\":\"y\"}},\"id\":\"54fb1fdc-8cb6-4cfc-a438-7663d60ff896\",\"type\":\"Rect\"},{\"attributes\":{\"callback\":null,\"column_names\":[\"x\",\"y\",\"width\",\"height\",\"color\",\"fill_alpha\",\"line_color\",\"line_alpha\",\"label\"],\"data\":{\"Content\":[\"FOR05\"],\"chart_index\":[{\"Content\":\"FOR05\"}],\"color\":[\"#f22c40\"],\"fill_alpha\":[0.8],\"height\":[1.0],\"label\":[{\"Content\":\"FOR05\"}],\"line_alpha\":[1.0],\"line_color\":[\"white\"],\"width\":[0.8],\"x\":[\"FOR05\"],\"y\":[0.5]}},\"id\":\"032e6c4e-b430-4810-9124-e98bdaeb3867\",\"type\":\"ColumnDataSource\"},{\"attributes\":{\"data_source\":{\"id\":\"99b6e6cc-1d85-41b2-a8c5-7cc5188daffb\",\"type\":\"ColumnDataSource\"},\"glyph\":{\"id\":\"9d434170-62ca-4bf6-a06e-fb9490cb4268\",\"type\":\"Rect\"},\"hover_glyph\":null,\"muted_glyph\":null},\"id\":\"4fb075b8-56d4-4afc-8d5f-36a7a715f9f2\",\"type\":\"GlyphRenderer\"},{\"attributes\":{\"fill_alpha\":{\"field\":\"fill_alpha\"},\"fill_color\":{\"field\":\"color\"},\"height\":{\"field\":\"height\",\"units\":\"data\"},\"line_color\":{\"field\":\"line_color\"},\"width\":{\"field\":\"width\",\"units\":\"data\"},\"x\":{\"field\":\"x\"},\"y\":{\"field\":\"y\"}},\"id\":\"eabe5891-09cc-4efd-b0f8-a2e8068d573a\",\"type\":\"Rect\"},{\"attributes\":{},\"id\":\"5ef8ef13-40e1-4415-a211-0b6d806600a0\",\"type\":\"CategoricalTickFormatter\"},{\"attributes\":{\"data_source\":{\"id\":\"032e6c4e-b430-4810-9124-e98bdaeb3867\",\"type\":\"ColumnDataSource\"},\"glyph\":{\"id\":\"7e8855d4-4c80-457b-b6c6-20dadc4cfb91\",\"type\":\"Rect\"},\"hover_glyph\":null,\"muted_glyph\":null},\"id\":\"28efb817-7d95-4d04-b0e3-7bf323da67a6\",\"type\":\"GlyphRenderer\"},{\"attributes\":{\"data_source\":{\"id\":\"a91bbbae-ec50-4096-a2b9-bd573245d9e6\",\"type\":\"ColumnDataSource\"},\"glyph\":{\"id\":\"eabe5891-09cc-4efd-b0f8-a2e8068d573a\",\"type\":\"Rect\"},\"hover_glyph\":null,\"muted_glyph\":null},\"id\":\"5a4537ed-8b79-4d72-b4d5-0380f16f8dc5\",\"type\":\"GlyphRenderer\"},{\"attributes\":{\"fill_alpha\":{\"field\":\"fill_alpha\"},\"fill_color\":{\"field\":\"color\"},\"height\":{\"field\":\"height\",\"units\":\"data\"},\"line_color\":{\"field\":\"line_color\"},\"width\":{\"field\":\"width\",\"units\":\"data\"},\"x\":{\"field\":\"x\"},\"y\":{\"field\":\"y\"}},\"id\":\"f81beb38-970c-493c-ba50-b7c1a070182e\",\"type\":\"Rect\"},{\"attributes\":{\"data_source\":{\"id\":\"9bbd7bff-431f-4b15-b188-efcb13fc9c1c\",\"type\":\"ColumnDataSource\"},\"glyph\":{\"id\":\"950c2de1-16ff-45f2-92e9-2ba2ec6db8d3\",\"type\":\"Rect\"},\"hover_glyph\":null,\"muted_glyph\":null},\"id\":\"8790a66b-a6f2-4130-9784-9c5e152ae7e4\",\"type\":\"GlyphRenderer\"},{\"attributes\":{\"data_source\":{\"id\":\"d09227df-5bf3-4ab2-b96f-3824edb00044\",\"type\":\"ColumnDataSource\"},\"glyph\":{\"id\":\"2be1a807-f775-4787-8f9d-c8c3fac108f0\",\"type\":\"Rect\"},\"hover_glyph\":null,\"muted_glyph\":null},\"id\":\"b2ebfaec-9bc3-479d-8cea-36fb08ec2ff7\",\"type\":\"GlyphRenderer\"},{\"attributes\":{\"data_source\":{\"id\":\"7e048643-eb60-466f-bc77-82d32eba67c8\",\"type\":\"ColumnDataSource\"},\"glyph\":{\"id\":\"54fb1fdc-8cb6-4cfc-a438-7663d60ff896\",\"type\":\"Rect\"},\"hover_glyph\":null,\"muted_glyph\":null},\"id\":\"fb13f091-efeb-46fc-a2b4-023ccb2f67a5\",\"type\":\"GlyphRenderer\"},{\"attributes\":{\"callback\":null,\"column_names\":[\"x\",\"y\",\"width\",\"height\",\"color\",\"fill_alpha\",\"line_color\",\"line_alpha\",\"label\"],\"data\":{\"Content\":[\"Goleta Bay\"],\"chart_index\":[{\"Content\":\"Goleta Bay\"}],\"color\":[\"#f22c40\"],\"fill_alpha\":[0.8],\"height\":[1.0],\"label\":[{\"Content\":\"Goleta Bay\"}],\"line_alpha\":[1.0],\"line_color\":[\"white\"],\"width\":[0.8],\"x\":[\"Goleta Bay\"],\"y\":[0.5]}},\"id\":\"fc13aeec-7ca8-4735-bf2d-87d89f7034b4\",\"type\":\"ColumnDataSource\"},{\"attributes\":{\"callback\":null,\"column_names\":[\"x\",\"y\",\"width\",\"height\",\"color\",\"fill_alpha\",\"line_color\",\"line_alpha\",\"label\"],\"data\":{\"Content\":[\"FOR04\"],\"chart_index\":[{\"Content\":\"FOR04\"}],\"color\":[\"#f22c40\"],\"fill_alpha\":[0.8],\"height\":[1.0],\"label\":[{\"Content\":\"FOR04\"}],\"line_alpha\":[1.0],\"line_color\":[\"white\"],\"width\":[0.8],\"x\":[\"FOR04\"],\"y\":[0.5]}},\"id\":\"11560588-9c12-48eb-b9df-5afbf81f73a4\",\"type\":\"ColumnDataSource\"},{\"attributes\":{\"callback\":null,\"column_names\":[\"x\",\"y\",\"width\",\"height\",\"color\",\"fill_alpha\",\"line_color\",\"line_alpha\",\"label\"],\"data\":{\"Content\":[\"Rattlesnake Creek\"],\"chart_index\":[{\"Content\":\"Rattlesnake Creek\"}],\"color\":[\"#f22c40\"],\"fill_alpha\":[0.8],\"height\":[1.0],\"label\":[{\"Content\":\"Rattlesnake Creek\"}],\"line_alpha\":[1.0],\"line_color\":[\"white\"],\"width\":[0.8],\"x\":[\"Rattlesnake Creek\"],\"y\":[0.5]}},\"id\":\"b2ab9a1e-e439-4448-9d27-fc30ff609da4\",\"type\":\"ColumnDataSource\"},{\"attributes\":{\"fill_alpha\":{\"field\":\"fill_alpha\"},\"fill_color\":{\"field\":\"color\"},\"height\":{\"field\":\"height\",\"units\":\"data\"},\"line_color\":{\"field\":\"line_color\"},\"width\":{\"field\":\"width\",\"units\":\"data\"},\"x\":{\"field\":\"x\"},\"y\":{\"field\":\"y\"}},\"id\":\"3e2e1c38-b49c-4839-9196-c4a12d27a1d7\",\"type\":\"Rect\"},{\"attributes\":{\"fill_alpha\":{\"field\":\"fill_alpha\"},\"fill_color\":{\"field\":\"color\"},\"height\":{\"field\":\"height\",\"units\":\"data\"},\"line_color\":{\"field\":\"line_color\"},\"width\":{\"field\":\"width\",\"units\":\"data\"},\"x\":{\"field\":\"x\"},\"y\":{\"field\":\"y\"}},\"id\":\"fcfc751c-ed1d-40af-a2a3-4b3ff1d10a08\",\"type\":\"Rect\"},{\"attributes\":{\"fill_alpha\":{\"field\":\"fill_alpha\"},\"fill_color\":{\"field\":\"color\"},\"height\":{\"field\":\"height\",\"units\":\"data\"},\"line_color\":{\"field\":\"line_color\"},\"width\":{\"field\":\"width\",\"units\":\"data\"},\"x\":{\"field\":\"x\"},\"y\":{\"field\":\"y\"}},\"id\":\"9a3d2078-e820-4c8d-a54f-35af1478ec3c\",\"type\":\"Rect\"},{\"attributes\":{\"data_source\":{\"id\":\"3368371d-4c5e-4f76-812c-0c57defd8ffa\",\"type\":\"ColumnDataSource\"},\"glyph\":{\"id\":\"84f7edd6-473e-44c6-89d4-024a0e1fa330\",\"type\":\"Rect\"},\"hover_glyph\":null,\"muted_glyph\":null},\"id\":\"7460ff6e-e6f6-4cd1-9b58-abf381cd11ea\",\"type\":\"GlyphRenderer\"},{\"attributes\":{\"callback\":null,\"column_names\":[\"x\",\"y\",\"width\",\"height\",\"color\",\"fill_alpha\",\"line_color\",\"line_alpha\",\"label\"],\"data\":{\"Content\":[\"Forereef\"],\"chart_index\":[{\"Content\":\"Forereef\"}],\"color\":[\"#f22c40\"],\"fill_alpha\":[0.8],\"height\":[1.0],\"label\":[{\"Content\":\"Forereef\"}],\"line_alpha\":[1.0],\"line_color\":[\"white\"],\"width\":[0.8],\"x\":[\"Forereef\"],\"y\":[0.5]}},\"id\":\"4c09935c-5d88-49da-be28-203c9b314807\",\"type\":\"ColumnDataSource\"},{\"attributes\":{\"callback\":null,\"column_names\":[\"x\",\"y\",\"width\",\"height\",\"color\",\"fill_alpha\",\"line_color\",\"line_alpha\",\"label\"],\"data\":{\"Content\":[\"Santa Barbara\"],\"chart_index\":[{\"Content\":\"Santa Barbara\"}],\"color\":[\"#f22c40\"],\"fill_alpha\":[0.8],\"height\":[1.0],\"label\":[{\"Content\":\"Santa Barbara\"}],\"line_alpha\":[1.0],\"line_color\":[\"white\"],\"width\":[0.8],\"x\":[\"Santa Barbara\"],\"y\":[0.5]}},\"id\":\"3c1d1048-e77b-4896-8694-8430beb4da9e\",\"type\":\"ColumnDataSource\"},{\"attributes\":{\"callback\":null,\"column_names\":[\"x\",\"y\",\"width\",\"height\",\"color\",\"fill_alpha\",\"line_color\",\"line_alpha\",\"label\"],\"data\":{\"Content\":[\"FOR01\"],\"chart_index\":[{\"Content\":\"FOR01\"}],\"color\":[\"#f22c40\"],\"fill_alpha\":[0.8],\"height\":[1.0],\"label\":[{\"Content\":\"FOR01\"}],\"line_alpha\":[1.0],\"line_color\":[\"white\"],\"width\":[0.8],\"x\":[\"FOR01\"],\"y\":[0.5]}},\"id\":\"09d9a49d-8a9b-4173-8d74-289694a349cb\",\"type\":\"ColumnDataSource\"},{\"attributes\":{\"callback\":null,\"column_names\":[\"x\",\"y\",\"width\",\"height\",\"color\",\"fill_alpha\",\"line_color\",\"line_alpha\",\"label\"],\"data\":{\"Content\":[\"United States\"],\"chart_index\":[{\"Content\":\"United States\"}],\"color\":[\"#f22c40\"],\"fill_alpha\":[0.8],\"height\":[7.0],\"label\":[{\"Content\":\"United States\"}],\"line_alpha\":[1.0],\"line_color\":[\"white\"],\"width\":[0.8],\"x\":[\"United States\"],\"y\":[3.5]}},\"id\":\"47a52874-931c-4812-8279-b7c00030ef89\",\"type\":\"ColumnDataSource\"},{\"attributes\":{\"callback\":null,\"column_names\":[\"x\",\"y\",\"width\",\"height\",\"color\",\"fill_alpha\",\"line_color\",\"line_alpha\",\"label\"],\"data\":{\"Content\":[\"Georgia\"],\"chart_index\":[{\"Content\":\"Georgia\"}],\"color\":[\"#f22c40\"],\"fill_alpha\":[0.8],\"height\":[3.0],\"label\":[{\"Content\":\"Georgia\"}],\"line_alpha\":[1.0],\"line_color\":[\"white\"],\"width\":[0.8],\"x\":[\"Georgia\"],\"y\":[1.5]}},\"id\":\"15fd6134-52e7-47f4-8994-8d6f44dfee7b\",\"type\":\"ColumnDataSource\"},{\"attributes\":{\"fill_alpha\":{\"field\":\"fill_alpha\"},\"fill_color\":{\"field\":\"color\"},\"height\":{\"field\":\"height\",\"units\":\"data\"},\"line_color\":{\"field\":\"line_color\"},\"width\":{\"field\":\"width\",\"units\":\"data\"},\"x\":{\"field\":\"x\"},\"y\":{\"field\":\"y\"}},\"id\":\"9117bbad-039b-4e03-b37e-ace5a20d02c0\",\"type\":\"Rect\"},{\"attributes\":{\"data_source\":{\"id\":\"3c1d1048-e77b-4896-8694-8430beb4da9e\",\"type\":\"ColumnDataSource\"},\"glyph\":{\"id\":\"9a3d2078-e820-4c8d-a54f-35af1478ec3c\",\"type\":\"Rect\"},\"hover_glyph\":null,\"muted_glyph\":null},\"id\":\"5b8a45cf-bae2-427a-bd57-d730e0881281\",\"type\":\"GlyphRenderer\"},{\"attributes\":{\"fill_alpha\":{\"field\":\"fill_alpha\"},\"fill_color\":{\"field\":\"color\"},\"height\":{\"field\":\"height\",\"units\":\"data\"},\"line_color\":{\"field\":\"line_color\"},\"width\":{\"field\":\"width\",\"units\":\"data\"},\"x\":{\"field\":\"x\"},\"y\":{\"field\":\"y\"}},\"id\":\"444371de-208e-4e9e-aa88-df446686de82\",\"type\":\"Rect\"},{\"attributes\":{\"data_source\":{\"id\":\"09d9a49d-8a9b-4173-8d74-289694a349cb\",\"type\":\"ColumnDataSource\"},\"glyph\":{\"id\":\"fcfc751c-ed1d-40af-a2a3-4b3ff1d10a08\",\"type\":\"Rect\"},\"hover_glyph\":null,\"muted_glyph\":null},\"id\":\"3db56e80-49f6-41df-8afa-5aa3fd6b859d\",\"type\":\"GlyphRenderer\"},{\"attributes\":{\"callback\":null,\"column_names\":[\"x\",\"y\",\"width\",\"height\",\"color\",\"fill_alpha\",\"line_color\",\"line_alpha\",\"label\"],\"data\":{\"Content\":[\"New England\"],\"chart_index\":[{\"Content\":\"New England\"}],\"color\":[\"#f22c40\"],\"fill_alpha\":[0.8],\"height\":[7.0],\"label\":[{\"Content\":\"New England\"}],\"line_alpha\":[1.0],\"line_color\":[\"white\"],\"width\":[0.8],\"x\":[\"New England\"],\"y\":[3.5]}},\"id\":\"0bdb40da-e9bb-45ab-9a4b-f66bd25a17a6\",\"type\":\"ColumnDataSource\"},{\"attributes\":{},\"id\":\"df0d9470-afcc-4147-a76a-18dc4663e02f\",\"type\":\"BasicTickFormatter\"},{\"attributes\":{\"fill_alpha\":{\"field\":\"fill_alpha\"},\"fill_color\":{\"field\":\"color\"},\"height\":{\"field\":\"height\",\"units\":\"data\"},\"line_color\":{\"field\":\"line_color\"},\"width\":{\"field\":\"width\",\"units\":\"data\"},\"x\":{\"field\":\"x\"},\"y\":{\"field\":\"y\"}},\"id\":\"ebddcbbe-916c-4a12-ac72-e17e3f536099\",\"type\":\"Rect\"},{\"attributes\":{\"fill_alpha\":{\"field\":\"fill_alpha\"},\"fill_color\":{\"field\":\"color\"},\"height\":{\"field\":\"height\",\"units\":\"data\"},\"line_color\":{\"field\":\"line_color\"},\"width\":{\"field\":\"width\",\"units\":\"data\"},\"x\":{\"field\":\"x\"},\"y\":{\"field\":\"y\"}},\"id\":\"05e141fd-7537-48c7-93d4-8f9f9b2ab873\",\"type\":\"Rect\"},{\"attributes\":{\"data_source\":{\"id\":\"b2ab9a1e-e439-4448-9d27-fc30ff609da4\",\"type\":\"ColumnDataSource\"},\"glyph\":{\"id\":\"9117bbad-039b-4e03-b37e-ace5a20d02c0\",\"type\":\"Rect\"},\"hover_glyph\":null,\"muted_glyph\":null},\"id\":\"e9b17915-72eb-4a1e-b285-33ed3f220afb\",\"type\":\"GlyphRenderer\"},{\"attributes\":{\"fill_alpha\":{\"field\":\"fill_alpha\"},\"fill_color\":{\"field\":\"color\"},\"height\":{\"field\":\"height\",\"units\":\"data\"},\"line_color\":{\"field\":\"line_color\"},\"width\":{\"field\":\"width\",\"units\":\"data\"},\"x\":{\"field\":\"x\"},\"y\":{\"field\":\"y\"}},\"id\":\"7e8855d4-4c80-457b-b6c6-20dadc4cfb91\",\"type\":\"Rect\"},{\"attributes\":{\"data_source\":{\"id\":\"11560588-9c12-48eb-b9df-5afbf81f73a4\",\"type\":\"ColumnDataSource\"},\"glyph\":{\"id\":\"444371de-208e-4e9e-aa88-df446686de82\",\"type\":\"Rect\"},\"hover_glyph\":null,\"muted_glyph\":null},\"id\":\"e0ac5c8f-80c9-40b0-bb39-f8af772aa3dd\",\"type\":\"GlyphRenderer\"},{\"attributes\":{\"axis_label\":\"Count( Content )\",\"formatter\":{\"id\":\"df0d9470-afcc-4147-a76a-18dc4663e02f\",\"type\":\"BasicTickFormatter\"},\"plot\":{\"id\":\"67cd3b87-53da-4304-99fe-43b9f8152bf9\",\"subtype\":\"Chart\",\"type\":\"Plot\"},\"ticker\":{\"id\":\"d40f1144-a828-4914-8ab8-8ff301e07d98\",\"type\":\"BasicTicker\"}},\"id\":\"4b0f9797-39cc-4e41-b0ab-3ca8bd190bc0\",\"type\":\"LinearAxis\"},{\"attributes\":{\"data_source\":{\"id\":\"4c09935c-5d88-49da-be28-203c9b314807\",\"type\":\"ColumnDataSource\"},\"glyph\":{\"id\":\"ebddcbbe-916c-4a12-ac72-e17e3f536099\",\"type\":\"Rect\"},\"hover_glyph\":null,\"muted_glyph\":null},\"id\":\"c9e5f9e9-ac64-48a0-9204-e9f465d293c4\",\"type\":\"GlyphRenderer\"},{\"attributes\":{\"callback\":null,\"column_names\":[\"x\",\"y\",\"width\",\"height\",\"color\",\"fill_alpha\",\"line_color\",\"line_alpha\",\"label\"],\"data\":{\"Content\":[\"Carpinteria Reef\"],\"chart_index\":[{\"Content\":\"Carpinteria Reef\"}],\"color\":[\"#f22c40\"],\"fill_alpha\":[0.8],\"height\":[1.0],\"label\":[{\"Content\":\"Carpinteria Reef\"}],\"line_alpha\":[1.0],\"line_color\":[\"white\"],\"width\":[0.8],\"x\":[\"Carpinteria Reef\"],\"y\":[0.5]}},\"id\":\"3368371d-4c5e-4f76-812c-0c57defd8ffa\",\"type\":\"ColumnDataSource\"},{\"attributes\":{\"callback\":null,\"column_names\":[\"x\",\"y\",\"width\",\"height\",\"color\",\"fill_alpha\",\"line_color\",\"line_alpha\",\"label\"],\"data\":{\"Content\":[\"Michigan\"],\"chart_index\":[{\"Content\":\"Michigan\"}],\"color\":[\"#f22c40\"],\"fill_alpha\":[0.8],\"height\":[2.0],\"label\":[{\"Content\":\"Michigan\"}],\"line_alpha\":[1.0],\"line_color\":[\"white\"],\"width\":[0.8],\"x\":[\"Michigan\"],\"y\":[1.0]}},\"id\":\"cf93a9fc-e925-4da8-ad7b-36fc44106419\",\"type\":\"ColumnDataSource\"},{\"attributes\":{\"fill_alpha\":{\"field\":\"fill_alpha\"},\"fill_color\":{\"field\":\"color\"},\"height\":{\"field\":\"height\",\"units\":\"data\"},\"line_color\":{\"field\":\"line_color\"},\"width\":{\"field\":\"width\",\"units\":\"data\"},\"x\":{\"field\":\"x\"},\"y\":{\"field\":\"y\"}},\"id\":\"ee4570fe-8191-48ae-a5d5-49b2902ec0a8\",\"type\":\"Rect\"},{\"attributes\":{\"fill_alpha\":{\"field\":\"fill_alpha\"},\"fill_color\":{\"field\":\"color\"},\"height\":{\"field\":\"height\",\"units\":\"data\"},\"line_color\":{\"field\":\"line_color\"},\"width\":{\"field\":\"width\",\"units\":\"data\"},\"x\":{\"field\":\"x\"},\"y\":{\"field\":\"y\"}},\"id\":\"28699788-3a1e-46b0-9bb9-c45f68ba6dda\",\"type\":\"Rect\"},{\"attributes\":{\"below\":[{\"id\":\"085a5917-2fb2-47e9-baed-8dca830b120a\",\"type\":\"CategoricalAxis\"}],\"css_classes\":null,\"height\":1000,\"left\":[{\"id\":\"4b0f9797-39cc-4e41-b0ab-3ca8bd190bc0\",\"type\":\"LinearAxis\"}],\"renderers\":[{\"id\":\"4a3892ad-0af5-4010-b8c0-fe7578dc423b\",\"type\":\"BoxAnnotation\"},{\"id\":\"7460ff6e-e6f6-4cd1-9b58-abf381cd11ea\",\"type\":\"GlyphRenderer\"},{\"id\":\"fb13f091-efeb-46fc-a2b4-023ccb2f67a5\",\"type\":\"GlyphRenderer\"},{\"id\":\"0508b600-44db-49d2-b535-ae29fb04ffb3\",\"type\":\"GlyphRenderer\"},{\"id\":\"3db56e80-49f6-41df-8afa-5aa3fd6b859d\",\"type\":\"GlyphRenderer\"},{\"id\":\"e0ac5c8f-80c9-40b0-bb39-f8af772aa3dd\",\"type\":\"GlyphRenderer\"},{\"id\":\"28efb817-7d95-4d04-b0e3-7bf323da67a6\",\"type\":\"GlyphRenderer\"},{\"id\":\"c9e5f9e9-ac64-48a0-9204-e9f465d293c4\",\"type\":\"GlyphRenderer\"},{\"id\":\"1cea8bc9-9c7a-43eb-b237-9feadf07eef6\",\"type\":\"GlyphRenderer\"},{\"id\":\"815b839c-e5e9-4f6b-b444-2150a65e3694\",\"type\":\"GlyphRenderer\"},{\"id\":\"e4d43e38-6d65-4a60-a5d1-b3efe2cf817d\",\"type\":\"GlyphRenderer\"},{\"id\":\"fb563655-8437-4ddd-beaf-f9b29ecefdfa\",\"type\":\"GlyphRenderer\"},{\"id\":\"8790a66b-a6f2-4130-9784-9c5e152ae7e4\",\"type\":\"GlyphRenderer\"},{\"id\":\"ae832c39-5ef3-476a-be24-1224f8a38d88\",\"type\":\"GlyphRenderer\"},{\"id\":\"97710596-c6fb-4add-9d62-b01b569f3c9e\",\"type\":\"GlyphRenderer\"},{\"id\":\"93c3c583-e19a-4f10-9e92-c278ef85e30a\",\"type\":\"GlyphRenderer\"},{\"id\":\"4aef08c2-5d1a-47c2-93d0-d54e2ffc0ced\",\"type\":\"GlyphRenderer\"},{\"id\":\"b2ebfaec-9bc3-479d-8cea-36fb08ec2ff7\",\"type\":\"GlyphRenderer\"},{\"id\":\"0083b3a0-16c7-452f-9f46-6610ec429a7b\",\"type\":\"GlyphRenderer\"},{\"id\":\"5a4537ed-8b79-4d72-b4d5-0380f16f8dc5\",\"type\":\"GlyphRenderer\"},{\"id\":\"5b8a45cf-bae2-427a-bd57-d730e0881281\",\"type\":\"GlyphRenderer\"},{\"id\":\"e9b17915-72eb-4a1e-b285-33ed3f220afb\",\"type\":\"GlyphRenderer\"},{\"id\":\"ae7fc15a-dc27-45d0-82f5-72df050bee45\",\"type\":\"GlyphRenderer\"},{\"id\":\"f814dfd8-e862-48bb-bb90-57e16c7e9267\",\"type\":\"GlyphRenderer\"},{\"id\":\"4fb075b8-56d4-4afc-8d5f-36a7a715f9f2\",\"type\":\"GlyphRenderer\"},{\"id\":\"976bde52-15f3-4d30-be96-805c72eed60a\",\"type\":\"GlyphRenderer\"},{\"id\":\"91ce8326-cef1-4142-a8f2-64a267b9d979\",\"type\":\"GlyphRenderer\"},{\"id\":\"a9862e39-d7f9-4d4f-9366-b3f1e0e1c3ee\",\"type\":\"GlyphRenderer\"},{\"id\":\"aab0c885-4cbb-41ed-a94c-665d2232c17f\",\"type\":\"GlyphRenderer\"},{\"id\":\"085a5917-2fb2-47e9-baed-8dca830b120a\",\"type\":\"CategoricalAxis\"},{\"id\":\"4b0f9797-39cc-4e41-b0ab-3ca8bd190bc0\",\"type\":\"LinearAxis\"},{\"id\":\"80a3f684-8823-4834-8466-e80f250b4f60\",\"type\":\"Grid\"}],\"title\":{\"id\":\"4ae60cf5-c2e4-4b77-b253-0d87fa4a6096\",\"type\":\"Title\"},\"tool_events\":{\"id\":\"5a34ee3e-d62c-4748-90f3-42cb983a9df5\",\"type\":\"ToolEvents\"},\"toolbar\":{\"id\":\"9ab10874-ef03-4f2d-ad43-1e8b39bd059e\",\"type\":\"Toolbar\"},\"width\":1800,\"x_mapper_type\":\"auto\",\"x_range\":{\"id\":\"944e2e6a-a1b9-4782-b119-a275311dcc83\",\"type\":\"FactorRange\"},\"y_mapper_type\":\"auto\",\"y_range\":{\"id\":\"b26c46ed-e8a4-450d-a33e-8effbbbbb07d\",\"type\":\"Range1d\"}},\"id\":\"67cd3b87-53da-4304-99fe-43b9f8152bf9\",\"subtype\":\"Chart\",\"type\":\"Plot\"},{\"attributes\":{\"data_source\":{\"id\":\"47a52874-931c-4812-8279-b7c00030ef89\",\"type\":\"ColumnDataSource\"},\"glyph\":{\"id\":\"05e141fd-7537-48c7-93d4-8f9f9b2ab873\",\"type\":\"Rect\"},\"hover_glyph\":null,\"muted_glyph\":null},\"id\":\"ae7fc15a-dc27-45d0-82f5-72df050bee45\",\"type\":\"GlyphRenderer\"},{\"attributes\":{\"fill_alpha\":{\"field\":\"fill_alpha\"},\"fill_color\":{\"field\":\"color\"},\"height\":{\"field\":\"height\",\"units\":\"data\"},\"line_color\":{\"field\":\"line_color\"},\"width\":{\"field\":\"width\",\"units\":\"data\"},\"x\":{\"field\":\"x\"},\"y\":{\"field\":\"y\"}},\"id\":\"363794f8-6bfe-4991-acef-b7c066de33f5\",\"type\":\"Rect\"},{\"attributes\":{\"callback\":null,\"end\":7.35},\"id\":\"b26c46ed-e8a4-450d-a33e-8effbbbbb07d\",\"type\":\"Range1d\"},{\"attributes\":{\"fill_alpha\":{\"field\":\"fill_alpha\"},\"fill_color\":{\"field\":\"color\"},\"height\":{\"field\":\"height\",\"units\":\"data\"},\"line_color\":{\"field\":\"line_color\"},\"width\":{\"field\":\"width\",\"units\":\"data\"},\"x\":{\"field\":\"x\"},\"y\":{\"field\":\"y\"}},\"id\":\"43aac7fd-22b1-4fcc-a693-1cbc7e3540af\",\"type\":\"Rect\"},{\"attributes\":{\"fill_alpha\":{\"field\":\"fill_alpha\"},\"fill_color\":{\"field\":\"color\"},\"height\":{\"field\":\"height\",\"units\":\"data\"},\"line_color\":{\"field\":\"line_color\"},\"width\":{\"field\":\"width\",\"units\":\"data\"},\"x\":{\"field\":\"x\"},\"y\":{\"field\":\"y\"}},\"id\":\"84f7edd6-473e-44c6-89d4-024a0e1fa330\",\"type\":\"Rect\"},{\"attributes\":{\"callback\":null,\"column_names\":[\"x\",\"y\",\"width\",\"height\",\"color\",\"fill_alpha\",\"line_color\",\"line_alpha\",\"label\"],\"data\":{\"Content\":[\"Moorea Coral Reef\"],\"chart_index\":[{\"Content\":\"Moorea Coral Reef\"}],\"color\":[\"#f22c40\"],\"fill_alpha\":[0.8],\"height\":[1.0],\"label\":[{\"Content\":\"Moorea Coral Reef\"}],\"line_alpha\":[1.0],\"line_color\":[\"white\"],\"width\":[0.8],\"x\":[\"Moorea Coral Reef\"],\"y\":[0.5]}},\"id\":\"267d0f66-bccb-4457-8c60-a90454045481\",\"type\":\"ColumnDataSource\"},{\"attributes\":{},\"id\":\"5a34ee3e-d62c-4748-90f3-42cb983a9df5\",\"type\":\"ToolEvents\"},{\"attributes\":{\"callback\":null,\"column_names\":[\"x\",\"y\",\"width\",\"height\",\"color\",\"fill_alpha\",\"line_color\",\"line_alpha\",\"label\"],\"data\":{\"Content\":[\"Ipswich River Watershed\"],\"chart_index\":[{\"Content\":\"Ipswich River Watershed\"}],\"color\":[\"#f22c40\"],\"fill_alpha\":[0.8],\"height\":[7.0],\"label\":[{\"Content\":\"Ipswich River Watershed\"}],\"line_alpha\":[1.0],\"line_color\":[\"white\"],\"width\":[0.8],\"x\":[\"Ipswich River Watershed\"],\"y\":[3.5]}},\"id\":\"53474b3e-24b2-4081-8704-8fca7216bb05\",\"type\":\"ColumnDataSource\"},{\"attributes\":{\"callback\":null,\"column_names\":[\"x\",\"y\",\"width\",\"height\",\"color\",\"fill_alpha\",\"line_color\",\"line_alpha\",\"label\"],\"data\":{\"Content\":[\"Marsh Landing\"],\"chart_index\":[{\"Content\":\"Marsh Landing\"}],\"color\":[\"#f22c40\"],\"fill_alpha\":[0.8],\"height\":[3.0],\"label\":[{\"Content\":\"Marsh Landing\"}],\"line_alpha\":[1.0],\"line_color\":[\"white\"],\"width\":[0.8],\"x\":[\"Marsh Landing\"],\"y\":[1.5]}},\"id\":\"7ccf9ec6-0c84-4da2-a454-e4229e8ec040\",\"type\":\"ColumnDataSource\"},{\"attributes\":{\"fill_alpha\":{\"field\":\"fill_alpha\"},\"fill_color\":{\"field\":\"color\"},\"height\":{\"field\":\"height\",\"units\":\"data\"},\"line_color\":{\"field\":\"line_color\"},\"width\":{\"field\":\"width\",\"units\":\"data\"},\"x\":{\"field\":\"x\"},\"y\":{\"field\":\"y\"}},\"id\":\"9d434170-62ca-4bf6-a06e-fb9490cb4268\",\"type\":\"Rect\"},{\"attributes\":{\"data_source\":{\"id\":\"0bdb40da-e9bb-45ab-9a4b-f66bd25a17a6\",\"type\":\"ColumnDataSource\"},\"glyph\":{\"id\":\"28699788-3a1e-46b0-9bb9-c45f68ba6dda\",\"type\":\"Rect\"},\"hover_glyph\":null,\"muted_glyph\":null},\"id\":\"f814dfd8-e862-48bb-bb90-57e16c7e9267\",\"type\":\"GlyphRenderer\"},{\"attributes\":{\"fill_alpha\":{\"field\":\"fill_alpha\"},\"fill_color\":{\"field\":\"color\"},\"height\":{\"field\":\"height\",\"units\":\"data\"},\"line_color\":{\"field\":\"line_color\"},\"width\":{\"field\":\"width\",\"units\":\"data\"},\"x\":{\"field\":\"x\"},\"y\":{\"field\":\"y\"}},\"id\":\"1ce38ea0-b901-4a43-a7d7-2028ac2cf2b1\",\"type\":\"Rect\"},{\"attributes\":{\"data_source\":{\"id\":\"267d0f66-bccb-4457-8c60-a90454045481\",\"type\":\"ColumnDataSource\"},\"glyph\":{\"id\":\"363794f8-6bfe-4991-acef-b7c066de33f5\",\"type\":\"Rect\"},\"hover_glyph\":null,\"muted_glyph\":null},\"id\":\"1cea8bc9-9c7a-43eb-b237-9feadf07eef6\",\"type\":\"GlyphRenderer\"},{\"attributes\":{\"data_source\":{\"id\":\"53474b3e-24b2-4081-8704-8fca7216bb05\",\"type\":\"ColumnDataSource\"},\"glyph\":{\"id\":\"cfa57dab-c584-4dcc-98a4-dd19517f1a4c\",\"type\":\"Rect\"},\"hover_glyph\":null,\"muted_glyph\":null},\"id\":\"976bde52-15f3-4d30-be96-805c72eed60a\",\"type\":\"GlyphRenderer\"},{\"attributes\":{\"fill_alpha\":{\"field\":\"fill_alpha\"},\"fill_color\":{\"field\":\"color\"},\"height\":{\"field\":\"height\",\"units\":\"data\"},\"line_color\":{\"field\":\"line_color\"},\"width\":{\"field\":\"width\",\"units\":\"data\"},\"x\":{\"field\":\"x\"},\"y\":{\"field\":\"y\"}},\"id\":\"cfa57dab-c584-4dcc-98a4-dd19517f1a4c\",\"type\":\"Rect\"},{\"attributes\":{\"callback\":null,\"column_names\":[\"x\",\"y\",\"width\",\"height\",\"color\",\"fill_alpha\",\"line_color\",\"line_alpha\",\"label\"],\"data\":{\"Content\":[\"PIE LTER\"],\"chart_index\":[{\"Content\":\"PIE LTER\"}],\"color\":[\"#f22c40\"],\"fill_alpha\":[0.8],\"height\":[7.0],\"label\":[{\"Content\":\"PIE LTER\"}],\"line_alpha\":[1.0],\"line_color\":[\"white\"],\"width\":[0.8],\"x\":[\"PIE LTER\"],\"y\":[3.5]}},\"id\":\"4179bc2b-8ba4-4ab9-a532-050edede414a\",\"type\":\"ColumnDataSource\"},{\"attributes\":{\"dimension\":1,\"plot\":{\"id\":\"67cd3b87-53da-4304-99fe-43b9f8152bf9\",\"subtype\":\"Chart\",\"type\":\"Plot\"},\"ticker\":{\"id\":\"d40f1144-a828-4914-8ab8-8ff301e07d98\",\"type\":\"BasicTicker\"}},\"id\":\"80a3f684-8823-4834-8466-e80f250b4f60\",\"type\":\"Grid\"},{\"attributes\":{\"fill_alpha\":{\"field\":\"fill_alpha\"},\"fill_color\":{\"field\":\"color\"},\"height\":{\"field\":\"height\",\"units\":\"data\"},\"line_color\":{\"field\":\"line_color\"},\"width\":{\"field\":\"width\",\"units\":\"data\"},\"x\":{\"field\":\"x\"},\"y\":{\"field\":\"y\"}},\"id\":\"f877d369-6033-4ca0-80fd-6057a298f9bb\",\"type\":\"Rect\"},{\"attributes\":{\"fill_alpha\":{\"field\":\"fill_alpha\"},\"fill_color\":{\"field\":\"color\"},\"height\":{\"field\":\"height\",\"units\":\"data\"},\"line_color\":{\"field\":\"line_color\"},\"width\":{\"field\":\"width\",\"units\":\"data\"},\"x\":{\"field\":\"x\"},\"y\":{\"field\":\"y\"}},\"id\":\"6cc36755-f3c3-4d11-bef5-1384f29bf85e\",\"type\":\"Rect\"},{\"attributes\":{\"fill_alpha\":{\"field\":\"fill_alpha\"},\"fill_color\":{\"field\":\"color\"},\"height\":{\"field\":\"height\",\"units\":\"data\"},\"line_color\":{\"field\":\"line_color\"},\"width\":{\"field\":\"width\",\"units\":\"data\"},\"x\":{\"field\":\"x\"},\"y\":{\"field\":\"y\"}},\"id\":\"2f62a8bf-7d55-4a90-9984-7085ee2c61f1\",\"type\":\"Rect\"},{\"attributes\":{\"data_source\":{\"id\":\"15fd6134-52e7-47f4-8994-8d6f44dfee7b\",\"type\":\"ColumnDataSource\"},\"glyph\":{\"id\":\"1ce38ea0-b901-4a43-a7d7-2028ac2cf2b1\",\"type\":\"Rect\"},\"hover_glyph\":null,\"muted_glyph\":null},\"id\":\"815b839c-e5e9-4f6b-b444-2150a65e3694\",\"type\":\"GlyphRenderer\"},{\"attributes\":{},\"id\":\"d40f1144-a828-4914-8ab8-8ff301e07d98\",\"type\":\"BasicTicker\"},{\"attributes\":{\"data_source\":{\"id\":\"cf93a9fc-e925-4da8-ad7b-36fc44106419\",\"type\":\"ColumnDataSource\"},\"glyph\":{\"id\":\"f81beb38-970c-493c-ba50-b7c1a070182e\",\"type\":\"Rect\"},\"hover_glyph\":null,\"muted_glyph\":null},\"id\":\"0083b3a0-16c7-452f-9f46-6610ec429a7b\",\"type\":\"GlyphRenderer\"},{\"attributes\":{\"axis_label\":\"Content\",\"formatter\":{\"id\":\"5ef8ef13-40e1-4415-a211-0b6d806600a0\",\"type\":\"CategoricalTickFormatter\"},\"major_label_orientation\":0.7853981633974483,\"plot\":{\"id\":\"67cd3b87-53da-4304-99fe-43b9f8152bf9\",\"subtype\":\"Chart\",\"type\":\"Plot\"},\"ticker\":{\"id\":\"1dc4b19a-fab8-4734-a61a-5c3eff798fd0\",\"type\":\"CategoricalTicker\"}},\"id\":\"085a5917-2fb2-47e9-baed-8dca830b120a\",\"type\":\"CategoricalAxis\"},{\"attributes\":{\"callback\":null,\"column_names\":[\"x\",\"y\",\"width\",\"height\",\"color\",\"fill_alpha\",\"line_color\",\"line_alpha\",\"label\"],\"data\":{\"Content\":[\"Plum Island Ecosystems\"],\"chart_index\":[{\"Content\":\"Plum Island Ecosystems\"}],\"color\":[\"#f22c40\"],\"fill_alpha\":[0.8],\"height\":[7.0],\"label\":[{\"Content\":\"Plum Island Ecosystems\"}],\"line_alpha\":[1.0],\"line_color\":[\"white\"],\"width\":[0.8],\"x\":[\"Plum Island Ecosystems\"],\"y\":[3.5]}},\"id\":\"ada7c3dd-1cf7-4297-b8a2-2bc369e1c9ba\",\"type\":\"ColumnDataSource\"},{\"attributes\":{\"data_source\":{\"id\":\"4179bc2b-8ba4-4ab9-a532-050edede414a\",\"type\":\"ColumnDataSource\"},\"glyph\":{\"id\":\"6cc36755-f3c3-4d11-bef5-1384f29bf85e\",\"type\":\"Rect\"},\"hover_glyph\":null,\"muted_glyph\":null},\"id\":\"91ce8326-cef1-4142-a8f2-64a267b9d979\",\"type\":\"GlyphRenderer\"},{\"attributes\":{\"callback\":null,\"column_names\":[\"x\",\"y\",\"width\",\"height\",\"color\",\"fill_alpha\",\"line_color\",\"line_alpha\",\"label\"],\"data\":{\"Content\":[\"USA\"],\"chart_index\":[{\"Content\":\"USA\"}],\"color\":[\"#f22c40\"],\"fill_alpha\":[0.8],\"height\":[3.0],\"label\":[{\"Content\":\"USA\"}],\"line_alpha\":[1.0],\"line_color\":[\"white\"],\"width\":[0.8],\"x\":[\"USA\"],\"y\":[1.5]}},\"id\":\"9bbd7bff-431f-4b15-b188-efcb13fc9c1c\",\"type\":\"ColumnDataSource\"},{\"attributes\":{\"data_source\":{\"id\":\"7ccf9ec6-0c84-4da2-a454-e4229e8ec040\",\"type\":\"ColumnDataSource\"},\"glyph\":{\"id\":\"2f62a8bf-7d55-4a90-9984-7085ee2c61f1\",\"type\":\"Rect\"},\"hover_glyph\":null,\"muted_glyph\":null},\"id\":\"e4d43e38-6d65-4a60-a5d1-b3efe2cf817d\",\"type\":\"GlyphRenderer\"}],\"root_ids\":[\"67cd3b87-53da-4304-99fe-43b9f8152bf9\"]},\"title\":\"Bokeh Application\",\"version\":\"0.12.5\"}};\n",
       "            var render_items = [{\"docid\":\"fadbf701-3c7a-461a-aa63-ef437e4a7bb7\",\"elementid\":\"3425945a-f826-46c3-8e77-249b5b7c8f63\",\"modelid\":\"67cd3b87-53da-4304-99fe-43b9f8152bf9\"}];\n",
       "            \n",
       "            Bokeh.embed.embed_items(docs_json, render_items);\n",
       "          };\n",
       "          if (document.readyState != \"loading\") fn();\n",
       "          else document.addEventListener(\"DOMContentLoaded\", fn);\n",
       "        })();\n",
       "      },\n",
       "      function(Bokeh) {\n",
       "      }\n",
       "    ];\n",
       "  \n",
       "    function run_inline_js() {\n",
       "      \n",
       "      if ((window.Bokeh !== undefined) || (force === true)) {\n",
       "        for (var i = 0; i < inline_js.length; i++) {\n",
       "          inline_js[i](window.Bokeh);\n",
       "        }if (force === true) {\n",
       "          display_loaded();\n",
       "        }} else if (Date.now() < window._bokeh_timeout) {\n",
       "        setTimeout(run_inline_js, 100);\n",
       "      } else if (!window._bokeh_failed_load) {\n",
       "        console.log(\"Bokeh: BokehJS failed to load within specified timeout.\");\n",
       "        window._bokeh_failed_load = true;\n",
       "      } else if (force !== true) {\n",
       "        var cell = $(document.getElementById(\"3425945a-f826-46c3-8e77-249b5b7c8f63\")).parents('.cell').data().cell;\n",
       "        cell.output_area.append_execute_result(NB_LOAD_WARNING)\n",
       "      }\n",
       "  \n",
       "    }\n",
       "  \n",
       "    if (window._bokeh_is_loading === 0) {\n",
       "      console.log(\"Bokeh: BokehJS loaded, going straight to plotting\");\n",
       "      run_inline_js();\n",
       "    } else {\n",
       "      load_libs(js_urls, function() {\n",
       "        console.log(\"Bokeh: BokehJS plotting callback run at\", now());\n",
       "        run_inline_js();\n",
       "      });\n",
       "    }\n",
       "  }(this));\n",
       "</script>"
      ]
     },
     "metadata": {},
     "output_type": "display_data"
    }
   ],
   "source": [
    "data = VerticalTable.Content.str.replace(':','.')\n",
    "\n",
    "p = Bar(data, 'Content', title=\"Vertical Value Occurance Count\", legend=False)\n",
    "\n",
    "show(p)"
   ]
  },
  {
   "cell_type": "code",
   "execution_count": null,
   "metadata": {
    "collapsed": true
   },
   "outputs": [],
   "source": []
  }
 ],
 "metadata": {
  "kernelspec": {
   "display_name": "Python 3",
   "language": "python",
   "name": "python3"
  },
  "language_info": {
   "codemirror_mode": {
    "name": "ipython",
    "version": 3
   },
   "file_extension": ".py",
   "mimetype": "text/x-python",
   "name": "python",
   "nbconvert_exporter": "python",
   "pygments_lexer": "ipython3",
   "version": "3.6.1"
  },
  "widgets": {
   "state": {
    "63b9368938d84d36b9c041e49283c506": {
     "views": [
      {
       "cell_index": 9
      }
     ]
    },
    "7ea2bb53552b4de9880143d07b439806": {
     "views": [
      {
       "cell_index": 18
      }
     ]
    }
   },
   "version": "1.2.0"
  }
 },
 "nbformat": 4,
 "nbformat_minor": 2
}
