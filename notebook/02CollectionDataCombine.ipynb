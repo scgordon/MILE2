{
 "cells": [
  {
   "cell_type": "markdown",
   "metadata": {},
   "source": [
    "## Choose the collections you want to compare\n",
    "\n",
    "\n",
    "This notebook allows the user to select multiple data tables, and combine them into one table for processing."
   ]
  },
  {
   "cell_type": "code",
   "execution_count": 1,
   "metadata": {},
   "outputs": [],
   "source": [
    "import pandas as pd\n",
    "pd.options.display.max_colwidth=200\n",
    "import os\n",
    "from os import walk\n",
    "import ipywidgets as widgets\n",
    "from IPython.display import display"
   ]
  },
  {
   "cell_type": "markdown",
   "metadata": {},
   "source": [
    "Creates a list of all the paths to a CSV in the data directory's sub-directories. "
   ]
  },
  {
   "cell_type": "markdown",
   "metadata": {},
   "source": [
    "Create a dropdown that allows multiple selection using command or click with the mouse or arrow keys to select additional individual data tables, or shift with the mouse to select each choice between the two clicked."
   ]
  },
  {
   "cell_type": "code",
   "execution_count": 2,
   "metadata": {},
   "outputs": [
    {
     "data": {
      "application/vnd.jupyter.widget-view+json": {
       "model_id": "acc228b519824c69bab7b584ac7cb75d"
      }
     },
     "metadata": {},
     "output_type": "display_data"
    },
    {
     "data": {
      "application/vnd.jupyter.widget-view+json": {
       "model_id": "27d39deffcbf4f7c952c2e45320ed3e5"
      }
     },
     "metadata": {},
     "output_type": "display_data"
    }
   ],
   "source": [
    "#Creates a list of all the paths to evaluated collection data.\n",
    "EvaluatedMetadata=[]\n",
    "for dirpath, dirnames, filenames in os.walk(\"../data\"):\n",
    "    for filename in [f for f in filenames if f.endswith('Evaluated.csv.gz')]:\n",
    "        EvaluatedMetadata.extend([os.path.join(dirpath, filename)])\n",
    "\n",
    "#widget for selecting multiple collections        \n",
    "w=widgets.SelectMultiple(\n",
    "    options=sorted(EvaluatedMetadata),\n",
    "    value=['../data/LTERthroughTime/LTER_2005_EML_Evaluated.csv.gz'],\n",
    "    #rows=10,\n",
    "    description='Collection Data',\n",
    "    disabled=False\n",
    ")\n",
    "#widget for naming the file\n",
    "w2=widgets.Text(\n",
    "    value='',\n",
    "    placeholder='Your file name (no spaces)',\n",
    "    description='File Name:',\n",
    "    disabled=False\n",
    ")\n",
    "#Show the widgets\n",
    "display(w)\n",
    "display(w2)"
   ]
  },
  {
   "cell_type": "markdown",
   "metadata": {},
   "source": [
    "Concatenate the files into one and save it in the combine directory"
   ]
  },
  {
   "cell_type": "code",
   "execution_count": 3,
   "metadata": {},
   "outputs": [],
   "source": [
    "CollectionComparisons=[]\n",
    "CollectionComparisons.extend(w.value)\n",
    "DataDestination=os.path.join('../data/CombineOutput', str(w2.value)+'Evaluated.csv.gz')\n",
    "CombinedDF = pd.concat((pd.read_csv(f) for f in CollectionComparisons)) \n",
    "CombinedDF.to_csv(DataDestination, mode = 'w', compression='gzip', index=False)\n",
    " "
   ]
  },
  {
   "cell_type": "markdown",
   "metadata": {},
   "source": [
    "### Evaluate for recommendations, element occurnce"
   ]
  },
  {
   "cell_type": "code",
   "execution_count": null,
   "metadata": {},
   "outputs": [],
   "source": []
  }
 ],
 "metadata": {
  "kernelspec": {
   "display_name": "Python 3",
   "language": "python",
   "name": "python3"
  },
  "language_info": {
   "codemirror_mode": {
    "name": "ipython",
    "version": 3
   },
   "file_extension": ".py",
   "mimetype": "text/x-python",
   "name": "python",
   "nbconvert_exporter": "python",
   "pygments_lexer": "ipython3",
   "version": "3.6.1"
  },
  "widgets": {
   "state": {
    "31aa209ce2c44217ad4fbfe6ce3fbe37": {
     "views": [
      {
       "cell_index": 7
      }
     ]
    }
   },
   "version": "1.2.0"
  }
 },
 "nbformat": 4,
 "nbformat_minor": 2
}
